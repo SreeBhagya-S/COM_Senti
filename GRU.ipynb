{
  "nbformat": 4,
  "nbformat_minor": 0,
  "metadata": {
    "colab": {
      "provenance": [],
      "gpuType": "T4",
      "authorship_tag": "ABX9TyNdRJNw/uEcKkSBANGeabA3"
    },
    "kernelspec": {
      "name": "python3",
      "display_name": "Python 3"
    },
    "language_info": {
      "name": "python"
    },
    "accelerator": "GPU"
  },
  "cells": [
    {
      "cell_type": "code",
      "execution_count": null,
      "metadata": {
        "colab": {
          "base_uri": "https://localhost:8080/"
        },
        "id": "qq_cUiNW8WFf",
        "outputId": "67614a48-2af5-45b2-8ab3-19fa992abf8b"
      },
      "outputs": [
        {
          "output_type": "stream",
          "name": "stdout",
          "text": [
            "Mounted at /content/drive\n"
          ]
        }
      ],
      "source": [
        "from google.colab import drive\n",
        "drive.mount('/content/drive')"
      ]
    },
    {
      "cell_type": "code",
      "execution_count": null,
      "metadata": {
        "colab": {
          "base_uri": "https://localhost:8080/"
        },
        "id": "j4DtTuTm3IyV",
        "outputId": "356439be-620e-4842-ebd2-f93962204118"
      },
      "outputs": [
        {
          "output_type": "stream",
          "name": "stdout",
          "text": [
            "Collecting np_utils\n",
            "  Downloading np_utils-0.6.0.tar.gz (61 kB)\n",
            "\u001b[2K     \u001b[90m━━━━━━━━━━━━━━━━━━━━━━━━━━━━━━━━━━━━━━━━\u001b[0m \u001b[32m62.0/62.0 kB\u001b[0m \u001b[31m988.2 kB/s\u001b[0m eta \u001b[36m0:00:00\u001b[0m\n",
            "\u001b[?25h  Preparing metadata (setup.py) ... \u001b[?25l\u001b[?25hdone\n",
            "Requirement already satisfied: numpy>=1.0 in /usr/local/lib/python3.10/dist-packages (from np_utils) (1.23.5)\n",
            "Building wheels for collected packages: np_utils\n",
            "  Building wheel for np_utils (setup.py) ... \u001b[?25l\u001b[?25hdone\n",
            "  Created wheel for np_utils: filename=np_utils-0.6.0-py3-none-any.whl size=56439 sha256=cf66eeb55363030bf53fb5f5e9dd627cf0480452f5b3d9979bf619d739b97c28\n",
            "  Stored in directory: /root/.cache/pip/wheels/b6/c7/50/2307607f44366dd021209f660045f8d51cb976514d30be7cc7\n",
            "Successfully built np_utils\n",
            "Installing collected packages: np_utils\n",
            "Successfully installed np_utils-0.6.0\n"
          ]
        }
      ],
      "source": [
        "!pip install np_utils"
      ]
    },
    {
      "cell_type": "code",
      "execution_count": null,
      "metadata": {
        "id": "t78h33pQ271h"
      },
      "outputs": [],
      "source": [
        "import numpy as np\n",
        "import pandas as pd\n",
        "import matplotlib.pyplot as plt\n",
        "import itertools\n",
        "import string\n",
        "from tqdm import tqdm_notebook as tqdm\n",
        "\n",
        "from gensim.models import *\n",
        "\n",
        "from keras.preprocessing.text import Tokenizer\n",
        "from keras.preprocessing.sequence import pad_sequences\n",
        "from keras.layers import *\n",
        "from keras.models import *\n",
        "import keras.backend as K\n",
        "import np_utils\n",
        "\n",
        "from sklearn.model_selection import train_test_split\n",
        "from sklearn.metrics import classification_report, confusion_matrix\n",
        "\n",
        "import os\n",
        "os.environ[\"CUDA_DEVICE_ORDER\"]=\"PCI_BUS_ID\"\n",
        "os.environ[\"CUDA_VISIBLE_DEVICES\"]=\"0\""
      ]
    },
    {
      "cell_type": "code",
      "execution_count": null,
      "metadata": {
        "id": "HR8MOvly3gMp"
      },
      "outputs": [],
      "source": [
        "def plot_confusion_matrix(cm, classes, title='Confusion matrix', cmap=plt.cm.Blues):\n",
        "\n",
        "    cm = cm.astype('float') / cm.sum(axis=1)[:, np.newaxis]\n",
        "\n",
        "    plt.imshow(cm, interpolation='nearest', cmap=cmap)\n",
        "    plt.title(title, fontsize=25)\n",
        "    #plt.colorbar()\n",
        "    tick_marks = np.arange(len(classes))\n",
        "    plt.xticks(tick_marks, classes, rotation=90, fontsize=15)\n",
        "    plt.yticks(tick_marks, classes, fontsize=15)\n",
        "\n",
        "    fmt = '.2f'\n",
        "    thresh = cm.max() / 2.\n",
        "    for i, j in itertools.product(range(cm.shape[0]), range(cm.shape[1])):\n",
        "        plt.text(j, i, format(cm[i, j], fmt),\n",
        "                 horizontalalignment=\"center\",\n",
        "                 color=\"white\" if cm[i, j] > thresh else \"black\", fontsize = 14)\n",
        "\n",
        "    plt.ylabel('True label', fontsize=20)\n",
        "    plt.xlabel('Predicted label', fontsize=20)"
      ]
    },
    {
      "cell_type": "code",
      "execution_count": null,
      "metadata": {
        "colab": {
          "base_uri": "https://localhost:8080/",
          "height": 442
        },
        "id": "FbIU5nNCKN1H",
        "outputId": "b96a3119-291e-4c24-9fb1-ed8818058190"
      },
      "outputs": [
        {
          "output_type": "stream",
          "name": "stdout",
          "text": [
            "(4158, 2)\n"
          ]
        },
        {
          "output_type": "execute_result",
          "data": {
            "text/plain": [
              "                                            Review_Text Sentiment_Class\n",
              "0          Bro njn 13 pro edukkan noknond suggestions??    Not_relevant\n",
              "1                            Tech inte ambassador 🤘😉🔥🔥🔥        Positive\n",
              "2                                         Ivan aradey 😳        Negative\n",
              "3                Bro 13 pro 256 gb green available anno         Neutral\n",
              "4                      samsung company ethra tharunundh         Neutral\n",
              "...                                                 ...             ...\n",
              "4153   എന്നാൽ നിനക്ക് rs 5000 രൂപ സമ്മാനം relieved face    Not_relevant\n",
              "4154  സുഹുർത്തെ tesla pi ഫോൺ ഇറങ്ങിയതോടെ apple i pho...  Mixed Feelings\n",
              "4155  real me 10 pro vs redmi note 12 pro വീഡിയോ ചെയ...    Not_relevant\n",
              "4156  ഇതിന്റെ google dailer and messaging app miui ട...         Neutral\n",
              "4157  എവിടെ backgroundil golden playbutton എവിടെ eye...    Not_relevant\n",
              "\n",
              "[4158 rows x 2 columns]"
            ],
            "text/html": [
              "\n",
              "  <div id=\"df-738e8f8c-a532-416d-8d3d-fb945ba065f9\" class=\"colab-df-container\">\n",
              "    <div>\n",
              "<style scoped>\n",
              "    .dataframe tbody tr th:only-of-type {\n",
              "        vertical-align: middle;\n",
              "    }\n",
              "\n",
              "    .dataframe tbody tr th {\n",
              "        vertical-align: top;\n",
              "    }\n",
              "\n",
              "    .dataframe thead th {\n",
              "        text-align: right;\n",
              "    }\n",
              "</style>\n",
              "<table border=\"1\" class=\"dataframe\">\n",
              "  <thead>\n",
              "    <tr style=\"text-align: right;\">\n",
              "      <th></th>\n",
              "      <th>Review_Text</th>\n",
              "      <th>Sentiment_Class</th>\n",
              "    </tr>\n",
              "  </thead>\n",
              "  <tbody>\n",
              "    <tr>\n",
              "      <th>0</th>\n",
              "      <td>Bro njn 13 pro edukkan noknond suggestions??</td>\n",
              "      <td>Not_relevant</td>\n",
              "    </tr>\n",
              "    <tr>\n",
              "      <th>1</th>\n",
              "      <td>Tech inte ambassador 🤘😉🔥🔥🔥</td>\n",
              "      <td>Positive</td>\n",
              "    </tr>\n",
              "    <tr>\n",
              "      <th>2</th>\n",
              "      <td>Ivan aradey 😳</td>\n",
              "      <td>Negative</td>\n",
              "    </tr>\n",
              "    <tr>\n",
              "      <th>3</th>\n",
              "      <td>Bro 13 pro 256 gb green available anno</td>\n",
              "      <td>Neutral</td>\n",
              "    </tr>\n",
              "    <tr>\n",
              "      <th>4</th>\n",
              "      <td>samsung company ethra tharunundh</td>\n",
              "      <td>Neutral</td>\n",
              "    </tr>\n",
              "    <tr>\n",
              "      <th>...</th>\n",
              "      <td>...</td>\n",
              "      <td>...</td>\n",
              "    </tr>\n",
              "    <tr>\n",
              "      <th>4153</th>\n",
              "      <td>എന്നാൽ നിനക്ക് rs 5000 രൂപ സമ്മാനം relieved face</td>\n",
              "      <td>Not_relevant</td>\n",
              "    </tr>\n",
              "    <tr>\n",
              "      <th>4154</th>\n",
              "      <td>സുഹുർത്തെ tesla pi ഫോൺ ഇറങ്ങിയതോടെ apple i pho...</td>\n",
              "      <td>Mixed Feelings</td>\n",
              "    </tr>\n",
              "    <tr>\n",
              "      <th>4155</th>\n",
              "      <td>real me 10 pro vs redmi note 12 pro വീഡിയോ ചെയ...</td>\n",
              "      <td>Not_relevant</td>\n",
              "    </tr>\n",
              "    <tr>\n",
              "      <th>4156</th>\n",
              "      <td>ഇതിന്റെ google dailer and messaging app miui ട...</td>\n",
              "      <td>Neutral</td>\n",
              "    </tr>\n",
              "    <tr>\n",
              "      <th>4157</th>\n",
              "      <td>എവിടെ backgroundil golden playbutton എവിടെ eye...</td>\n",
              "      <td>Not_relevant</td>\n",
              "    </tr>\n",
              "  </tbody>\n",
              "</table>\n",
              "<p>4158 rows × 2 columns</p>\n",
              "</div>\n",
              "    <div class=\"colab-df-buttons\">\n",
              "\n",
              "  <div class=\"colab-df-container\">\n",
              "    <button class=\"colab-df-convert\" onclick=\"convertToInteractive('df-738e8f8c-a532-416d-8d3d-fb945ba065f9')\"\n",
              "            title=\"Convert this dataframe to an interactive table.\"\n",
              "            style=\"display:none;\">\n",
              "\n",
              "  <svg xmlns=\"http://www.w3.org/2000/svg\" height=\"24px\" viewBox=\"0 -960 960 960\">\n",
              "    <path d=\"M120-120v-720h720v720H120Zm60-500h600v-160H180v160Zm220 220h160v-160H400v160Zm0 220h160v-160H400v160ZM180-400h160v-160H180v160Zm440 0h160v-160H620v160ZM180-180h160v-160H180v160Zm440 0h160v-160H620v160Z\"/>\n",
              "  </svg>\n",
              "    </button>\n",
              "\n",
              "  <style>\n",
              "    .colab-df-container {\n",
              "      display:flex;\n",
              "      gap: 12px;\n",
              "    }\n",
              "\n",
              "    .colab-df-convert {\n",
              "      background-color: #E8F0FE;\n",
              "      border: none;\n",
              "      border-radius: 50%;\n",
              "      cursor: pointer;\n",
              "      display: none;\n",
              "      fill: #1967D2;\n",
              "      height: 32px;\n",
              "      padding: 0 0 0 0;\n",
              "      width: 32px;\n",
              "    }\n",
              "\n",
              "    .colab-df-convert:hover {\n",
              "      background-color: #E2EBFA;\n",
              "      box-shadow: 0px 1px 2px rgba(60, 64, 67, 0.3), 0px 1px 3px 1px rgba(60, 64, 67, 0.15);\n",
              "      fill: #174EA6;\n",
              "    }\n",
              "\n",
              "    .colab-df-buttons div {\n",
              "      margin-bottom: 4px;\n",
              "    }\n",
              "\n",
              "    [theme=dark] .colab-df-convert {\n",
              "      background-color: #3B4455;\n",
              "      fill: #D2E3FC;\n",
              "    }\n",
              "\n",
              "    [theme=dark] .colab-df-convert:hover {\n",
              "      background-color: #434B5C;\n",
              "      box-shadow: 0px 1px 3px 1px rgba(0, 0, 0, 0.15);\n",
              "      filter: drop-shadow(0px 1px 2px rgba(0, 0, 0, 0.3));\n",
              "      fill: #FFFFFF;\n",
              "    }\n",
              "  </style>\n",
              "\n",
              "    <script>\n",
              "      const buttonEl =\n",
              "        document.querySelector('#df-738e8f8c-a532-416d-8d3d-fb945ba065f9 button.colab-df-convert');\n",
              "      buttonEl.style.display =\n",
              "        google.colab.kernel.accessAllowed ? 'block' : 'none';\n",
              "\n",
              "      async function convertToInteractive(key) {\n",
              "        const element = document.querySelector('#df-738e8f8c-a532-416d-8d3d-fb945ba065f9');\n",
              "        const dataTable =\n",
              "          await google.colab.kernel.invokeFunction('convertToInteractive',\n",
              "                                                    [key], {});\n",
              "        if (!dataTable) return;\n",
              "\n",
              "        const docLinkHtml = 'Like what you see? Visit the ' +\n",
              "          '<a target=\"_blank\" href=https://colab.research.google.com/notebooks/data_table.ipynb>data table notebook</a>'\n",
              "          + ' to learn more about interactive tables.';\n",
              "        element.innerHTML = '';\n",
              "        dataTable['output_type'] = 'display_data';\n",
              "        await google.colab.output.renderOutput(dataTable, element);\n",
              "        const docLink = document.createElement('div');\n",
              "        docLink.innerHTML = docLinkHtml;\n",
              "        element.appendChild(docLink);\n",
              "      }\n",
              "    </script>\n",
              "  </div>\n",
              "\n",
              "\n",
              "<div id=\"df-a7b9cc97-f0cd-41d0-a64e-40d2e0580073\">\n",
              "  <button class=\"colab-df-quickchart\" onclick=\"quickchart('df-a7b9cc97-f0cd-41d0-a64e-40d2e0580073')\"\n",
              "            title=\"Suggest charts\"\n",
              "            style=\"display:none;\">\n",
              "\n",
              "<svg xmlns=\"http://www.w3.org/2000/svg\" height=\"24px\"viewBox=\"0 0 24 24\"\n",
              "     width=\"24px\">\n",
              "    <g>\n",
              "        <path d=\"M19 3H5c-1.1 0-2 .9-2 2v14c0 1.1.9 2 2 2h14c1.1 0 2-.9 2-2V5c0-1.1-.9-2-2-2zM9 17H7v-7h2v7zm4 0h-2V7h2v10zm4 0h-2v-4h2v4z\"/>\n",
              "    </g>\n",
              "</svg>\n",
              "  </button>\n",
              "\n",
              "<style>\n",
              "  .colab-df-quickchart {\n",
              "      --bg-color: #E8F0FE;\n",
              "      --fill-color: #1967D2;\n",
              "      --hover-bg-color: #E2EBFA;\n",
              "      --hover-fill-color: #174EA6;\n",
              "      --disabled-fill-color: #AAA;\n",
              "      --disabled-bg-color: #DDD;\n",
              "  }\n",
              "\n",
              "  [theme=dark] .colab-df-quickchart {\n",
              "      --bg-color: #3B4455;\n",
              "      --fill-color: #D2E3FC;\n",
              "      --hover-bg-color: #434B5C;\n",
              "      --hover-fill-color: #FFFFFF;\n",
              "      --disabled-bg-color: #3B4455;\n",
              "      --disabled-fill-color: #666;\n",
              "  }\n",
              "\n",
              "  .colab-df-quickchart {\n",
              "    background-color: var(--bg-color);\n",
              "    border: none;\n",
              "    border-radius: 50%;\n",
              "    cursor: pointer;\n",
              "    display: none;\n",
              "    fill: var(--fill-color);\n",
              "    height: 32px;\n",
              "    padding: 0;\n",
              "    width: 32px;\n",
              "  }\n",
              "\n",
              "  .colab-df-quickchart:hover {\n",
              "    background-color: var(--hover-bg-color);\n",
              "    box-shadow: 0 1px 2px rgba(60, 64, 67, 0.3), 0 1px 3px 1px rgba(60, 64, 67, 0.15);\n",
              "    fill: var(--button-hover-fill-color);\n",
              "  }\n",
              "\n",
              "  .colab-df-quickchart-complete:disabled,\n",
              "  .colab-df-quickchart-complete:disabled:hover {\n",
              "    background-color: var(--disabled-bg-color);\n",
              "    fill: var(--disabled-fill-color);\n",
              "    box-shadow: none;\n",
              "  }\n",
              "\n",
              "  .colab-df-spinner {\n",
              "    border: 2px solid var(--fill-color);\n",
              "    border-color: transparent;\n",
              "    border-bottom-color: var(--fill-color);\n",
              "    animation:\n",
              "      spin 1s steps(1) infinite;\n",
              "  }\n",
              "\n",
              "  @keyframes spin {\n",
              "    0% {\n",
              "      border-color: transparent;\n",
              "      border-bottom-color: var(--fill-color);\n",
              "      border-left-color: var(--fill-color);\n",
              "    }\n",
              "    20% {\n",
              "      border-color: transparent;\n",
              "      border-left-color: var(--fill-color);\n",
              "      border-top-color: var(--fill-color);\n",
              "    }\n",
              "    30% {\n",
              "      border-color: transparent;\n",
              "      border-left-color: var(--fill-color);\n",
              "      border-top-color: var(--fill-color);\n",
              "      border-right-color: var(--fill-color);\n",
              "    }\n",
              "    40% {\n",
              "      border-color: transparent;\n",
              "      border-right-color: var(--fill-color);\n",
              "      border-top-color: var(--fill-color);\n",
              "    }\n",
              "    60% {\n",
              "      border-color: transparent;\n",
              "      border-right-color: var(--fill-color);\n",
              "    }\n",
              "    80% {\n",
              "      border-color: transparent;\n",
              "      border-right-color: var(--fill-color);\n",
              "      border-bottom-color: var(--fill-color);\n",
              "    }\n",
              "    90% {\n",
              "      border-color: transparent;\n",
              "      border-bottom-color: var(--fill-color);\n",
              "    }\n",
              "  }\n",
              "</style>\n",
              "\n",
              "  <script>\n",
              "    async function quickchart(key) {\n",
              "      const quickchartButtonEl =\n",
              "        document.querySelector('#' + key + ' button');\n",
              "      quickchartButtonEl.disabled = true;  // To prevent multiple clicks.\n",
              "      quickchartButtonEl.classList.add('colab-df-spinner');\n",
              "      try {\n",
              "        const charts = await google.colab.kernel.invokeFunction(\n",
              "            'suggestCharts', [key], {});\n",
              "      } catch (error) {\n",
              "        console.error('Error during call to suggestCharts:', error);\n",
              "      }\n",
              "      quickchartButtonEl.classList.remove('colab-df-spinner');\n",
              "      quickchartButtonEl.classList.add('colab-df-quickchart-complete');\n",
              "    }\n",
              "    (() => {\n",
              "      let quickchartButtonEl =\n",
              "        document.querySelector('#df-a7b9cc97-f0cd-41d0-a64e-40d2e0580073 button');\n",
              "      quickchartButtonEl.style.display =\n",
              "        google.colab.kernel.accessAllowed ? 'block' : 'none';\n",
              "    })();\n",
              "  </script>\n",
              "</div>\n",
              "    </div>\n",
              "  </div>\n"
            ]
          },
          "metadata": {},
          "execution_count": 5
        }
      ],
      "source": [
        "### READ DATA ###\n",
        "df=pd.read_csv('/content/drive/MyDrive/com_reviews_MP.csv',  sep=',')\n",
        "column_to_drop = 'Unnamed: 0'\n",
        "df = df.drop(column_to_drop, axis=1)\n",
        "print(df.shape)\n",
        "df"
      ]
    },
    {
      "cell_type": "code",
      "execution_count": null,
      "metadata": {
        "id": "0cSB908Dz854"
      },
      "outputs": [],
      "source": [
        "text=df['Review_Text']\n",
        "labels=df['Sentiment_Class']"
      ]
    },
    {
      "cell_type": "code",
      "execution_count": null,
      "metadata": {
        "colab": {
          "base_uri": "https://localhost:8080/"
        },
        "outputId": "6f266c61-41b5-47c5-aaab-648b7ae6aebd",
        "id": "MNuRfeYPE6f5"
      },
      "outputs": [
        {
          "output_type": "stream",
          "name": "stderr",
          "text": [
            "[nltk_data] Downloading package punkt to /root/nltk_data...\n",
            "[nltk_data]   Unzipping tokenizers/punkt.zip.\n",
            "[nltk_data] Downloading package stopwords to /root/nltk_data...\n",
            "[nltk_data]   Unzipping corpora/stopwords.zip.\n",
            "[nltk_data] Downloading package wordnet to /root/nltk_data...\n"
          ]
        }
      ],
      "source": [
        "import re\n",
        "import nltk\n",
        "nltk.download('punkt')\n",
        "nltk.download('stopwords')\n",
        "nltk.download('wordnet')\n",
        "from nltk.corpus import stopwords\n",
        "from nltk.tokenize import word_tokenize"
      ]
    },
    {
      "cell_type": "code",
      "execution_count": null,
      "metadata": {
        "id": "CDx5FJplE6f5"
      },
      "outputs": [],
      "source": [
        "from tqdm import tqdm\n",
        "tqdm.pandas()\n",
        "from nltk.stem.lancaster import LancasterStemmer\n",
        "lancaster_stemmer = LancasterStemmer()\n",
        "from nltk.stem import WordNetLemmatizer\n",
        "wordnet_lemmatizer = WordNetLemmatizer()\n",
        "\n",
        "from sklearn.feature_extraction.text import TfidfVectorizer\n"
      ]
    },
    {
      "cell_type": "code",
      "execution_count": null,
      "metadata": {
        "colab": {
          "base_uri": "https://localhost:8080/"
        },
        "id": "gJrY_UoVq81h",
        "outputId": "078acfd0-240a-4d66-c67d-17a0a158aace"
      },
      "outputs": [
        {
          "output_type": "execute_result",
          "data": {
            "text/plain": [
              "0            Bro njn 13 pro edukkan noknond suggestions??\n",
              "1                              Tech inte ambassador 🤘😉🔥🔥🔥\n",
              "2                                           Ivan aradey 😳\n",
              "3                  Bro 13 pro 256 gb green available anno\n",
              "4                        samsung company ethra tharunundh\n",
              "                              ...                        \n",
              "4153     എന്നാൽ നിനക്ക് rs 5000 രൂപ സമ്മാനം relieved face\n",
              "4154    സുഹുർത്തെ tesla pi ഫോൺ ഇറങ്ങിയതോടെ apple i pho...\n",
              "4155    real me 10 pro vs redmi note 12 pro വീഡിയോ ചെയ...\n",
              "4156    ഇതിന്റെ google dailer and messaging app miui ട...\n",
              "4157    എവിടെ backgroundil golden playbutton എവിടെ eye...\n",
              "Name: Review_Text, Length: 4158, dtype: object"
            ]
          },
          "metadata": {},
          "execution_count": 9
        }
      ],
      "source": [
        "import copy\n",
        "clean_texts=copy.deepcopy(text)\n",
        "clean_texts"
      ]
    },
    {
      "cell_type": "code",
      "execution_count": null,
      "metadata": {
        "colab": {
          "base_uri": "https://localhost:8080/"
        },
        "outputId": "6f7baef8-1c4b-4972-9fa9-a04a9d09520e",
        "id": "TKgNLNnJE6f6"
      },
      "outputs": [
        {
          "output_type": "stream",
          "name": "stdout",
          "text": [
            "Collecting emoji\n",
            "  Downloading emoji-2.9.0-py2.py3-none-any.whl (397 kB)\n",
            "\u001b[2K     \u001b[90m━━━━━━━━━━━━━━━━━━━━━━━━━━━━━━━━━━━━━━━━\u001b[0m \u001b[32m397.5/397.5 kB\u001b[0m \u001b[31m4.1 MB/s\u001b[0m eta \u001b[36m0:00:00\u001b[0m\n",
            "\u001b[?25hInstalling collected packages: emoji\n",
            "Successfully installed emoji-2.9.0\n"
          ]
        }
      ],
      "source": [
        "!pip install emoji"
      ]
    },
    {
      "cell_type": "code",
      "execution_count": null,
      "metadata": {
        "id": "CoA8V5yzE6f6"
      },
      "outputs": [],
      "source": [
        "import emoji\n",
        "text1 = \"game is on 🔥 🔥\"\n",
        "txt=emoji.demojize(text1, delimiters=(\"\", \"\"))  # 'game is on fire fire'\n",
        "# txt=':'+txt\n",
        "# txt\n"
      ]
    },
    {
      "cell_type": "code",
      "execution_count": null,
      "metadata": {
        "colab": {
          "base_uri": "https://localhost:8080/"
        },
        "id": "NHyYrhGRcRfq",
        "outputId": "d8316a2a-8910-4d6c-b9ec-0c1fe634bcec"
      },
      "outputs": [
        {
          "output_type": "stream",
          "name": "stderr",
          "text": [
            "100%|██████████| 4158/4158 [00:01<00:00, 3979.29it/s]\n"
          ]
        },
        {
          "output_type": "execute_result",
          "data": {
            "text/plain": [
              "0            Bro njn 13 pro edukkan noknond suggestions??\n",
              "1       Tech inte ambassador :sign_of_the_horns::winki...\n",
              "2                              Ivan aradey :flushed_face:\n",
              "3                  Bro 13 pro 256 gb green available anno\n",
              "4                        samsung company ethra tharunundh\n",
              "                              ...                        \n",
              "4153     എന്നാൽ നിനക്ക് rs 5000 രൂപ സമ്മാനം relieved face\n",
              "4154    സുഹുർത്തെ tesla pi ഫോൺ ഇറങ്ങിയതോടെ apple i pho...\n",
              "4155    real me 10 pro vs redmi note 12 pro വീഡിയോ ചെയ...\n",
              "4156    ഇതിന്റെ google dailer and messaging app miui ട...\n",
              "4157    എവിടെ backgroundil golden playbutton എവിടെ eye...\n",
              "Name: Review_Text, Length: 4158, dtype: object"
            ]
          },
          "metadata": {},
          "execution_count": 12
        }
      ],
      "source": [
        "def emoji_text(text):\n",
        "    # conv_text = \"\"\n",
        "    conv_text = emoji.demojize(text)\n",
        "    return conv_text\n",
        "\n",
        "clean_texts= text.progress_apply(emoji_text)\n",
        "clean_texts"
      ]
    },
    {
      "cell_type": "code",
      "execution_count": null,
      "metadata": {
        "colab": {
          "base_uri": "https://localhost:8080/"
        },
        "outputId": "1c881686-50db-4175-9de7-2dcd850cd338",
        "id": "M4L2oumGE6f6"
      },
      "outputs": [
        {
          "output_type": "stream",
          "name": "stderr",
          "text": [
            "100%|██████████| 4158/4158 [00:00<00:00, 7652.40it/s]\n"
          ]
        }
      ],
      "source": [
        "# Define a function to clean the code-mixed text while preserving the order\n",
        "def clean_code_mixed_text(text):\n",
        "    cleaned_text = \"\"\n",
        "    current_language = None\n",
        "    current_segment = \"\"\n",
        "\n",
        "    # Iterate through each character in the input text\n",
        "    for char in text:\n",
        "        if re.match(r'[a-zA-Z]', char):\n",
        "            if current_language == 'en' or current_language is None:\n",
        "                current_segment += char\n",
        "                current_language = 'en'\n",
        "            else:\n",
        "                cleaned_text += current_segment + ' '\n",
        "                current_segment = char\n",
        "                current_language = 'en'\n",
        "        elif re.match(r'[ം-ൿ]', char):\n",
        "            if current_language == 'ml' or current_language is None:\n",
        "                current_segment += char\n",
        "                current_language = 'ml'\n",
        "            else:\n",
        "                cleaned_text += current_segment + ' '\n",
        "                current_segment = char\n",
        "                current_language = 'ml'\n",
        "        else:\n",
        "            if current_segment:\n",
        "                cleaned_text += current_segment + ' '\n",
        "            current_segment = \"\"\n",
        "            current_language = None\n",
        "\n",
        "    # Add the last segment\n",
        "    if current_segment:\n",
        "        cleaned_text += current_segment\n",
        "\n",
        "    return cleaned_text.strip()\n",
        "\n",
        "cleaned_text = clean_texts.progress_apply(clean_code_mixed_text)\n",
        "cleaned_text = cleaned_text.str.lower()"
      ]
    },
    {
      "cell_type": "code",
      "execution_count": null,
      "metadata": {
        "colab": {
          "base_uri": "https://localhost:8080/",
          "height": 460
        },
        "outputId": "aca5a285-879d-45e7-8a87-c1a487aa2c0b",
        "id": "NwYCXJaaE6f6"
      },
      "outputs": [
        {
          "output_type": "stream",
          "name": "stdout",
          "text": [
            "Cleaned Text:\n",
            "\n"
          ]
        },
        {
          "output_type": "execute_result",
          "data": {
            "text/plain": [
              "                                            Review_Text\n",
              "0               bro njn pro edukkan noknond suggestions\n",
              "1     tech inte ambassador sign of the horns winking...\n",
              "2                              ivan aradey flushed face\n",
              "3                       bro pro gb green available anno\n",
              "4                      samsung company ethra tharunundh\n",
              "...                                                 ...\n",
              "4153        എന്നാൽ നിനക്ക് rs രൂപ സമ്മാനം relieved face\n",
              "4154  സുഹുർത്തെ tesla pi ഫോൺ ഇറങ്ങിയതോടെ apple i pho...\n",
              "4155  real me pro vs redmi note pro വീഡിയോ ചെയ്യണേ ബ...\n",
              "4156  ഇതിന്റെ google dailer and messaging app miui ട...\n",
              "4157  എവിടെ backgroundil golden playbutton എവിടെ eye...\n",
              "\n",
              "[4158 rows x 1 columns]"
            ],
            "text/html": [
              "\n",
              "  <div id=\"df-0895bf58-6fcc-4dc7-a59c-b9064afbc93e\" class=\"colab-df-container\">\n",
              "    <div>\n",
              "<style scoped>\n",
              "    .dataframe tbody tr th:only-of-type {\n",
              "        vertical-align: middle;\n",
              "    }\n",
              "\n",
              "    .dataframe tbody tr th {\n",
              "        vertical-align: top;\n",
              "    }\n",
              "\n",
              "    .dataframe thead th {\n",
              "        text-align: right;\n",
              "    }\n",
              "</style>\n",
              "<table border=\"1\" class=\"dataframe\">\n",
              "  <thead>\n",
              "    <tr style=\"text-align: right;\">\n",
              "      <th></th>\n",
              "      <th>Review_Text</th>\n",
              "    </tr>\n",
              "  </thead>\n",
              "  <tbody>\n",
              "    <tr>\n",
              "      <th>0</th>\n",
              "      <td>bro njn pro edukkan noknond suggestions</td>\n",
              "    </tr>\n",
              "    <tr>\n",
              "      <th>1</th>\n",
              "      <td>tech inte ambassador sign of the horns winking...</td>\n",
              "    </tr>\n",
              "    <tr>\n",
              "      <th>2</th>\n",
              "      <td>ivan aradey flushed face</td>\n",
              "    </tr>\n",
              "    <tr>\n",
              "      <th>3</th>\n",
              "      <td>bro pro gb green available anno</td>\n",
              "    </tr>\n",
              "    <tr>\n",
              "      <th>4</th>\n",
              "      <td>samsung company ethra tharunundh</td>\n",
              "    </tr>\n",
              "    <tr>\n",
              "      <th>...</th>\n",
              "      <td>...</td>\n",
              "    </tr>\n",
              "    <tr>\n",
              "      <th>4153</th>\n",
              "      <td>എന്നാൽ നിനക്ക് rs രൂപ സമ്മാനം relieved face</td>\n",
              "    </tr>\n",
              "    <tr>\n",
              "      <th>4154</th>\n",
              "      <td>സുഹുർത്തെ tesla pi ഫോൺ ഇറങ്ങിയതോടെ apple i pho...</td>\n",
              "    </tr>\n",
              "    <tr>\n",
              "      <th>4155</th>\n",
              "      <td>real me pro vs redmi note pro വീഡിയോ ചെയ്യണേ ബ...</td>\n",
              "    </tr>\n",
              "    <tr>\n",
              "      <th>4156</th>\n",
              "      <td>ഇതിന്റെ google dailer and messaging app miui ട...</td>\n",
              "    </tr>\n",
              "    <tr>\n",
              "      <th>4157</th>\n",
              "      <td>എവിടെ backgroundil golden playbutton എവിടെ eye...</td>\n",
              "    </tr>\n",
              "  </tbody>\n",
              "</table>\n",
              "<p>4158 rows × 1 columns</p>\n",
              "</div>\n",
              "    <div class=\"colab-df-buttons\">\n",
              "\n",
              "  <div class=\"colab-df-container\">\n",
              "    <button class=\"colab-df-convert\" onclick=\"convertToInteractive('df-0895bf58-6fcc-4dc7-a59c-b9064afbc93e')\"\n",
              "            title=\"Convert this dataframe to an interactive table.\"\n",
              "            style=\"display:none;\">\n",
              "\n",
              "  <svg xmlns=\"http://www.w3.org/2000/svg\" height=\"24px\" viewBox=\"0 -960 960 960\">\n",
              "    <path d=\"M120-120v-720h720v720H120Zm60-500h600v-160H180v160Zm220 220h160v-160H400v160Zm0 220h160v-160H400v160ZM180-400h160v-160H180v160Zm440 0h160v-160H620v160ZM180-180h160v-160H180v160Zm440 0h160v-160H620v160Z\"/>\n",
              "  </svg>\n",
              "    </button>\n",
              "\n",
              "  <style>\n",
              "    .colab-df-container {\n",
              "      display:flex;\n",
              "      gap: 12px;\n",
              "    }\n",
              "\n",
              "    .colab-df-convert {\n",
              "      background-color: #E8F0FE;\n",
              "      border: none;\n",
              "      border-radius: 50%;\n",
              "      cursor: pointer;\n",
              "      display: none;\n",
              "      fill: #1967D2;\n",
              "      height: 32px;\n",
              "      padding: 0 0 0 0;\n",
              "      width: 32px;\n",
              "    }\n",
              "\n",
              "    .colab-df-convert:hover {\n",
              "      background-color: #E2EBFA;\n",
              "      box-shadow: 0px 1px 2px rgba(60, 64, 67, 0.3), 0px 1px 3px 1px rgba(60, 64, 67, 0.15);\n",
              "      fill: #174EA6;\n",
              "    }\n",
              "\n",
              "    .colab-df-buttons div {\n",
              "      margin-bottom: 4px;\n",
              "    }\n",
              "\n",
              "    [theme=dark] .colab-df-convert {\n",
              "      background-color: #3B4455;\n",
              "      fill: #D2E3FC;\n",
              "    }\n",
              "\n",
              "    [theme=dark] .colab-df-convert:hover {\n",
              "      background-color: #434B5C;\n",
              "      box-shadow: 0px 1px 3px 1px rgba(0, 0, 0, 0.15);\n",
              "      filter: drop-shadow(0px 1px 2px rgba(0, 0, 0, 0.3));\n",
              "      fill: #FFFFFF;\n",
              "    }\n",
              "  </style>\n",
              "\n",
              "    <script>\n",
              "      const buttonEl =\n",
              "        document.querySelector('#df-0895bf58-6fcc-4dc7-a59c-b9064afbc93e button.colab-df-convert');\n",
              "      buttonEl.style.display =\n",
              "        google.colab.kernel.accessAllowed ? 'block' : 'none';\n",
              "\n",
              "      async function convertToInteractive(key) {\n",
              "        const element = document.querySelector('#df-0895bf58-6fcc-4dc7-a59c-b9064afbc93e');\n",
              "        const dataTable =\n",
              "          await google.colab.kernel.invokeFunction('convertToInteractive',\n",
              "                                                    [key], {});\n",
              "        if (!dataTable) return;\n",
              "\n",
              "        const docLinkHtml = 'Like what you see? Visit the ' +\n",
              "          '<a target=\"_blank\" href=https://colab.research.google.com/notebooks/data_table.ipynb>data table notebook</a>'\n",
              "          + ' to learn more about interactive tables.';\n",
              "        element.innerHTML = '';\n",
              "        dataTable['output_type'] = 'display_data';\n",
              "        await google.colab.output.renderOutput(dataTable, element);\n",
              "        const docLink = document.createElement('div');\n",
              "        docLink.innerHTML = docLinkHtml;\n",
              "        element.appendChild(docLink);\n",
              "      }\n",
              "    </script>\n",
              "  </div>\n",
              "\n",
              "\n",
              "<div id=\"df-69f9aaae-52ea-4656-9fcf-b03a629ed68b\">\n",
              "  <button class=\"colab-df-quickchart\" onclick=\"quickchart('df-69f9aaae-52ea-4656-9fcf-b03a629ed68b')\"\n",
              "            title=\"Suggest charts\"\n",
              "            style=\"display:none;\">\n",
              "\n",
              "<svg xmlns=\"http://www.w3.org/2000/svg\" height=\"24px\"viewBox=\"0 0 24 24\"\n",
              "     width=\"24px\">\n",
              "    <g>\n",
              "        <path d=\"M19 3H5c-1.1 0-2 .9-2 2v14c0 1.1.9 2 2 2h14c1.1 0 2-.9 2-2V5c0-1.1-.9-2-2-2zM9 17H7v-7h2v7zm4 0h-2V7h2v10zm4 0h-2v-4h2v4z\"/>\n",
              "    </g>\n",
              "</svg>\n",
              "  </button>\n",
              "\n",
              "<style>\n",
              "  .colab-df-quickchart {\n",
              "      --bg-color: #E8F0FE;\n",
              "      --fill-color: #1967D2;\n",
              "      --hover-bg-color: #E2EBFA;\n",
              "      --hover-fill-color: #174EA6;\n",
              "      --disabled-fill-color: #AAA;\n",
              "      --disabled-bg-color: #DDD;\n",
              "  }\n",
              "\n",
              "  [theme=dark] .colab-df-quickchart {\n",
              "      --bg-color: #3B4455;\n",
              "      --fill-color: #D2E3FC;\n",
              "      --hover-bg-color: #434B5C;\n",
              "      --hover-fill-color: #FFFFFF;\n",
              "      --disabled-bg-color: #3B4455;\n",
              "      --disabled-fill-color: #666;\n",
              "  }\n",
              "\n",
              "  .colab-df-quickchart {\n",
              "    background-color: var(--bg-color);\n",
              "    border: none;\n",
              "    border-radius: 50%;\n",
              "    cursor: pointer;\n",
              "    display: none;\n",
              "    fill: var(--fill-color);\n",
              "    height: 32px;\n",
              "    padding: 0;\n",
              "    width: 32px;\n",
              "  }\n",
              "\n",
              "  .colab-df-quickchart:hover {\n",
              "    background-color: var(--hover-bg-color);\n",
              "    box-shadow: 0 1px 2px rgba(60, 64, 67, 0.3), 0 1px 3px 1px rgba(60, 64, 67, 0.15);\n",
              "    fill: var(--button-hover-fill-color);\n",
              "  }\n",
              "\n",
              "  .colab-df-quickchart-complete:disabled,\n",
              "  .colab-df-quickchart-complete:disabled:hover {\n",
              "    background-color: var(--disabled-bg-color);\n",
              "    fill: var(--disabled-fill-color);\n",
              "    box-shadow: none;\n",
              "  }\n",
              "\n",
              "  .colab-df-spinner {\n",
              "    border: 2px solid var(--fill-color);\n",
              "    border-color: transparent;\n",
              "    border-bottom-color: var(--fill-color);\n",
              "    animation:\n",
              "      spin 1s steps(1) infinite;\n",
              "  }\n",
              "\n",
              "  @keyframes spin {\n",
              "    0% {\n",
              "      border-color: transparent;\n",
              "      border-bottom-color: var(--fill-color);\n",
              "      border-left-color: var(--fill-color);\n",
              "    }\n",
              "    20% {\n",
              "      border-color: transparent;\n",
              "      border-left-color: var(--fill-color);\n",
              "      border-top-color: var(--fill-color);\n",
              "    }\n",
              "    30% {\n",
              "      border-color: transparent;\n",
              "      border-left-color: var(--fill-color);\n",
              "      border-top-color: var(--fill-color);\n",
              "      border-right-color: var(--fill-color);\n",
              "    }\n",
              "    40% {\n",
              "      border-color: transparent;\n",
              "      border-right-color: var(--fill-color);\n",
              "      border-top-color: var(--fill-color);\n",
              "    }\n",
              "    60% {\n",
              "      border-color: transparent;\n",
              "      border-right-color: var(--fill-color);\n",
              "    }\n",
              "    80% {\n",
              "      border-color: transparent;\n",
              "      border-right-color: var(--fill-color);\n",
              "      border-bottom-color: var(--fill-color);\n",
              "    }\n",
              "    90% {\n",
              "      border-color: transparent;\n",
              "      border-bottom-color: var(--fill-color);\n",
              "    }\n",
              "  }\n",
              "</style>\n",
              "\n",
              "  <script>\n",
              "    async function quickchart(key) {\n",
              "      const quickchartButtonEl =\n",
              "        document.querySelector('#' + key + ' button');\n",
              "      quickchartButtonEl.disabled = true;  // To prevent multiple clicks.\n",
              "      quickchartButtonEl.classList.add('colab-df-spinner');\n",
              "      try {\n",
              "        const charts = await google.colab.kernel.invokeFunction(\n",
              "            'suggestCharts', [key], {});\n",
              "      } catch (error) {\n",
              "        console.error('Error during call to suggestCharts:', error);\n",
              "      }\n",
              "      quickchartButtonEl.classList.remove('colab-df-spinner');\n",
              "      quickchartButtonEl.classList.add('colab-df-quickchart-complete');\n",
              "    }\n",
              "    (() => {\n",
              "      let quickchartButtonEl =\n",
              "        document.querySelector('#df-69f9aaae-52ea-4656-9fcf-b03a629ed68b button');\n",
              "      quickchartButtonEl.style.display =\n",
              "        google.colab.kernel.accessAllowed ? 'block' : 'none';\n",
              "    })();\n",
              "  </script>\n",
              "</div>\n",
              "    </div>\n",
              "  </div>\n"
            ]
          },
          "metadata": {},
          "execution_count": 14
        }
      ],
      "source": [
        "print(\"Cleaned Text:\\n\")\n",
        "df_cleaned = pd.DataFrame(cleaned_text)\n",
        "df_cleaned"
      ]
    },
    {
      "cell_type": "code",
      "execution_count": null,
      "metadata": {
        "id": "JrAt0f66E6f7"
      },
      "outputs": [],
      "source": [
        "import tensorflow as tf\n",
        "\n",
        "# Set random seed for reproducibility\n",
        "seed_value = 5\n",
        "np.random.seed(seed_value)\n",
        "tf.random.set_seed(seed_value)"
      ]
    },
    {
      "cell_type": "code",
      "execution_count": null,
      "metadata": {
        "id": "3dKIOFcsE6f7"
      },
      "outputs": [],
      "source": [
        "from keras.src.utils.np_utils import to_categorical\n",
        "### SPLIT INTO TRAIN/TEST ###\n",
        "\n",
        "y = to_categorical(df.Sentiment_Class.factorize()[0])\n",
        "\n",
        "X_train, X_test, y_train, y_test = train_test_split(df_cleaned.Review_Text.tolist(), y, random_state=seed_value, test_size=0.15)"
      ]
    },
    {
      "cell_type": "code",
      "execution_count": null,
      "metadata": {
        "colab": {
          "base_uri": "https://localhost:8080/"
        },
        "outputId": "d01a537d-cad8-4923-b792-bf9275b19efe",
        "id": "UFcrA7YIE6f7"
      },
      "outputs": [
        {
          "output_type": "execute_result",
          "data": {
            "text/plain": [
              "{0: 'Not_relevant',\n",
              " 1: 'Positive',\n",
              " 2: 'Negative',\n",
              " 3: 'Neutral',\n",
              " 4: 'Mixed Feelings'}"
            ]
          },
          "metadata": {},
          "execution_count": 17
        }
      ],
      "source": [
        "### MAP LABEL ###\n",
        "\n",
        "diz_label = {}\n",
        "for i,label in enumerate(df.Sentiment_Class.factorize()[1]):\n",
        "    diz_label[i] = label\n",
        "\n",
        "diz_label"
      ]
    },
    {
      "cell_type": "code",
      "source": [
        "### TRANSFORM ORIGINAL TEXT INTO SEQUENCES AND COMPUTE PADDING ###\n",
        "\n",
        "max_len = 600\n",
        "\n",
        "tokenizer = Tokenizer(lower=True, split=' ')\n",
        "word_index = tokenizer.word_index\n",
        "tokenizer.fit_on_texts(X_train)\n",
        "sequences = tokenizer.texts_to_sequences(text)\n",
        "\n",
        "# Padding sequences\n",
        "padded_sequences = pad_sequences(sequences, maxlen=max_len)\n",
        "\n",
        "sequence_train = tokenizer.texts_to_sequences(X_train)\n",
        "sequence_train = pad_sequences(sequence_train, maxlen=max_len)\n",
        "\n",
        "sequence_test = tokenizer.texts_to_sequences(X_test)\n",
        "sequence_test = pad_sequences(sequence_test, maxlen=max_len)\n",
        "\n",
        "sequence_train = np.asarray(sequence_train)\n",
        "sequence_test = np.asarray(sequence_test)\n",
        "\n",
        "print(sequence_train.shape, sequence_test.shape)\n"
      ],
      "metadata": {
        "colab": {
          "base_uri": "https://localhost:8080/"
        },
        "id": "YP339fHqFPDx",
        "outputId": "20c395c5-0345-4832-d733-348ed759eeb8"
      },
      "execution_count": null,
      "outputs": [
        {
          "output_type": "stream",
          "name": "stdout",
          "text": [
            "(3534, 600) (624, 600)\n"
          ]
        }
      ]
    },
    {
      "cell_type": "code",
      "source": [
        "### TRAIN WORD2VEC###\n",
        "\n",
        "# w2v=Word2Vec(vector_size=100, window=5, min_count=5, seed=33)\n",
        "# w2v.build_vocab([s.split( ) for s in X_train])\n",
        "# w2v.train([s.split( ) for s in X_train], total_examples=w2v.corpus_count, epochs=10)"
      ],
      "metadata": {
        "id": "nbTlbTuAe7-x"
      },
      "execution_count": null,
      "outputs": []
    },
    {
      "cell_type": "code",
      "execution_count": null,
      "metadata": {
        "colab": {
          "base_uri": "https://localhost:8080/"
        },
        "outputId": "8c4441e2-5811-46f1-a4b5-c05758c93500",
        "id": "ci0Ql2C-E6f7"
      },
      "outputs": [
        {
          "output_type": "execute_result",
          "data": {
            "text/plain": [
              "(340205, 542420)"
            ]
          },
          "metadata": {},
          "execution_count": 19
        }
      ],
      "source": [
        "## TRAIN FASTTEXT ###\n",
        "ft = FastText(vector_size=100, window=5, min_count=4, seed=33)\n",
        "ft.build_vocab([s.split( ) for s in X_train])\n",
        "ft.train([s.split( ) for s in X_train], total_examples=ft.corpus_count, epochs=10)"
      ]
    },
    {
      "cell_type": "code",
      "source": [
        "### GET TRAINED WEIGHTS FOR EACH WORD FROM WORD2VEC ###\n",
        "\n",
        "embedding_matrix_w2v = np.random.random((len(tokenizer.word_index) + 1, 100))\n",
        "\n",
        "pas = 0\n",
        "for word,i in tokenizer.word_index.items():\n",
        "\n",
        "    try:\n",
        "        embedding_matrix_w2v[i] = w2v.wv[word]\n",
        "    except:\n",
        "        pas+=1\n",
        "\n",
        "print('not in vocabulary', pas)"
      ],
      "metadata": {
        "colab": {
          "base_uri": "https://localhost:8080/"
        },
        "id": "pFlw4YZqWsJu",
        "outputId": "730d9dd7-0294-4777-c1cf-d45de3c11ca0"
      },
      "execution_count": null,
      "outputs": [
        {
          "output_type": "stream",
          "name": "stdout",
          "text": [
            "not in vocabulary 13052\n"
          ]
        }
      ]
    },
    {
      "cell_type": "code",
      "source": [
        "### GET TRAINED WEIGHTS FOR EACH WORD FROM FASTTEXT ###\n",
        "\n",
        "embedding_matrix_ft = np.random.random((len(tokenizer.word_index) + 1, 100))\n",
        "\n",
        "pas = 0\n",
        "for word,i in tokenizer.word_index.items():\n",
        "\n",
        "    try:\n",
        "        embedding_matrix_ft[i] = ft.wv[word]\n",
        "    except:\n",
        "        pas+=1\n",
        "\n",
        "print('not in vocabulary', pas)\n",
        "embedding_matrix_ft.shape"
      ],
      "metadata": {
        "colab": {
          "base_uri": "https://localhost:8080/"
        },
        "id": "24vd95B1FSXj",
        "outputId": "0b0ff3f0-8065-44c4-fede-251738ee3ab3"
      },
      "execution_count": null,
      "outputs": [
        {
          "output_type": "stream",
          "name": "stdout",
          "text": [
            "not in vocabulary 0\n"
          ]
        },
        {
          "output_type": "execute_result",
          "data": {
            "text/plain": [
              "(13053, 100)"
            ]
          },
          "metadata": {},
          "execution_count": 21
        }
      ]
    },
    {
      "cell_type": "code",
      "source": [
        "### DEFINE INPUT LAYER FOR EMBEDDINGS READING AND CONCATENATION ###\n",
        "\n",
        "### DEFINE INPUT LAYER FOR EMBEDDINGS READING AND CONCATENATION ###\n",
        "\n",
        "def Concat_Emb(list_emb, maxlen):\n",
        "\n",
        "    inputs = []\n",
        "    output = []\n",
        "    for embedding in list_emb:\n",
        "\n",
        "        inp = Input(shape=(maxlen,))\n",
        "        emb = Embedding(len(tokenizer.word_index) + 1, 100, weights=[embedding], trainable=False)(inp)\n",
        "        emb = Reshape((-1,100,1))(emb)\n",
        "        inputs.append(inp)\n",
        "        output.append(emb)\n",
        "\n",
        "    concat = Concatenate(axis=-1)(output)\n",
        "\n",
        "    return Model(inputs, concat)"
      ],
      "metadata": {
        "id": "mQ_X-Y8PVT-f"
      },
      "execution_count": null,
      "outputs": []
    },
    {
      "cell_type": "code",
      "source": [
        "### TRY Concat_Emb ###\n",
        "# read_emb = Concat_Emb([embedding_matrix_w2v, embedding_matrix_ft], maxlen=max_len)\n",
        "# read_emb.summary()"
      ],
      "metadata": {
        "id": "rcMFNnLtVke-"
      },
      "execution_count": null,
      "outputs": []
    },
    {
      "cell_type": "code",
      "source": [
        "### TRY Concat_Emb ###\n",
        "read_emb = Concat_Emb([embedding_matrix_ft], maxlen=max_len)\n",
        "read_emb.summary()"
      ],
      "metadata": {
        "colab": {
          "base_uri": "https://localhost:8080/"
        },
        "id": "Q2an21Aso34-",
        "outputId": "2dfdaf2e-582c-4a21-d795-fec67bc4b5f4"
      },
      "execution_count": null,
      "outputs": [
        {
          "output_type": "stream",
          "name": "stdout",
          "text": [
            "Model: \"model_4\"\n",
            "_________________________________________________________________\n",
            " Layer (type)                Output Shape              Param #   \n",
            "=================================================================\n",
            " input_4 (InputLayer)        [(None, 600)]             0         \n",
            "                                                                 \n",
            " embedding_2 (Embedding)     (None, 600, 100)          1305300   \n",
            "                                                                 \n",
            " reshape_4 (Reshape)         (None, 600, 100, 1)       0         \n",
            "                                                                 \n",
            " concatenate_2 (Concatenate  (None, 600, 100, 1)       0         \n",
            " )                                                               \n",
            "                                                                 \n",
            "=================================================================\n",
            "Total params: 1305300 (4.98 MB)\n",
            "Trainable params: 0 (0.00 Byte)\n",
            "Non-trainable params: 1305300 (4.98 MB)\n",
            "_________________________________________________________________\n"
          ]
        }
      ]
    },
    {
      "cell_type": "code",
      "source": [
        "\n",
        "# def inputlayer(maxlen):\n",
        "\n",
        "#     inp = Input(shape=(maxlen, 100, 2))\n",
        "#     x = Reshape((maxlen, -1))(inp)\n",
        "#     x = LSTM(2, return_sequences=True)(x)\n",
        "#     x = Activation('sigmoid')(x)\n",
        "#     x = Reshape((maxlen, 1, 2))(x)\n",
        "#     x = multiply([inp, x])\n",
        "#     out = Lambda(lambda t: K.sum(t, axis=-1))(x)\n",
        "\n",
        "#     return Model(inp, out)"
      ],
      "metadata": {
        "id": "fbSs2LCGVGKX"
      },
      "execution_count": null,
      "outputs": []
    },
    {
      "cell_type": "code",
      "source": [
        "def inputlayer(maxlen):\n",
        "\n",
        "    inp = Input(shape=(maxlen, 100, 1))#600,100,1\n",
        "    x = Reshape((maxlen, -1))(inp)#600,100\n",
        "    x = GRU(1, return_sequences=True)(x)\n",
        "    x = Activation('sigmoid')(x)\n",
        "    x = Reshape((maxlen, 1,1))(x)#600,1,1\n",
        "    x = multiply([inp, x])\n",
        "    out = Lambda(lambda t: K.sum(t, axis=-1))(x)\n",
        "\n",
        "    return Model(inp, out)"
      ],
      "metadata": {
        "id": "GJmt8eBOpSfS"
      },
      "execution_count": null,
      "outputs": []
    },
    {
      "cell_type": "code",
      "source": [
        "    # inp = Input(shape=(max_len, 100, 1))#600,100,1\n",
        "    # print(inp.shape)\n",
        "    # x = Reshape((max_len, -1))(inp)#600,100\n",
        "    # print(x.shape)\n",
        "    # x = LSTM(1, return_sequences=True)(x)\n",
        "    # x = Activation('sigmoid')(x)\n",
        "    # print(x.shape)#600,2\n",
        "    # x = Reshape((max_len, 1,1))(x)#600,1,1\n",
        "    # print(x.shape)\n",
        "    # x = multiply([inp, x])\n",
        "    # print(x.shape)\n",
        "    # out = Lambda(lambda t: K.sum(t, axis=-1))(x)\n",
        "    # print(out.shape)\n"
      ],
      "metadata": {
        "id": "OovelWFeq-6D"
      },
      "execution_count": null,
      "outputs": []
    },
    {
      "cell_type": "code",
      "source": [
        "# Model building\n",
        "### DEFINE NETWORK WITH DME ###\n",
        "\n",
        "concat_inp = Concat_Emb([embedding_matrix_ft], maxlen=max_len)\n",
        "modl =inputlayer(max_len)\n",
        "x = modl(concat_inp.output)\n",
        "x = GRU(128, dropout=0.2, return_sequences=True)(x)\n",
        "x = GRU(32, dropout=0.2)(x)\n",
        "out = Dense(y.shape[1], activation='softmax')(x)\n",
        "model = Model(concat_inp.input, out)\n",
        "model.compile(optimizer='adam', loss='categorical_crossentropy', metrics=['accuracy'])"
      ],
      "metadata": {
        "id": "8DRadazrFZRM"
      },
      "execution_count": null,
      "outputs": []
    },
    {
      "cell_type": "code",
      "source": [
        "model.summary()"
      ],
      "metadata": {
        "colab": {
          "base_uri": "https://localhost:8080/"
        },
        "id": "apKimsVvHgpN",
        "outputId": "d0f5dfc7-d7d2-4f9d-f1c6-2dfacea63093"
      },
      "execution_count": null,
      "outputs": [
        {
          "output_type": "stream",
          "name": "stdout",
          "text": [
            "Model: \"model_2\"\n",
            "_________________________________________________________________\n",
            " Layer (type)                Output Shape              Param #   \n",
            "=================================================================\n",
            " input_1 (InputLayer)        [(None, 600)]             0         \n",
            "                                                                 \n",
            " embedding (Embedding)       (None, 600, 100)          1305300   \n",
            "                                                                 \n",
            " reshape (Reshape)           (None, 600, 100, 1)       0         \n",
            "                                                                 \n",
            " concatenate (Concatenate)   (None, 600, 100, 1)       0         \n",
            "                                                                 \n",
            " model_1 (Functional)        (None, 600, 100)          309       \n",
            "                                                                 \n",
            " gru_1 (GRU)                 (None, 600, 128)          88320     \n",
            "                                                                 \n",
            " gru_2 (GRU)                 (None, 32)                15552     \n",
            "                                                                 \n",
            " dense (Dense)               (None, 5)                 165       \n",
            "                                                                 \n",
            "=================================================================\n",
            "Total params: 1409646 (5.38 MB)\n",
            "Trainable params: 104346 (407.60 KB)\n",
            "Non-trainable params: 1305300 (4.98 MB)\n",
            "_________________________________________________________________\n"
          ]
        }
      ]
    },
    {
      "cell_type": "code",
      "source": [
        "# Model training\n",
        "history=model.fit([sequence_train]*1, y_train, batch_size=128, epochs=20, verbose=2, validation_split=0.1)\n"
      ],
      "metadata": {
        "colab": {
          "base_uri": "https://localhost:8080/"
        },
        "id": "lnz4cxDeUrfP",
        "outputId": "4ca6c8ef-c57a-4719-c097-4a2cb09b1593"
      },
      "execution_count": null,
      "outputs": [
        {
          "output_type": "stream",
          "name": "stdout",
          "text": [
            "Epoch 1/20\n",
            "25/25 - 22s - loss: 1.5234 - accuracy: 0.3327 - val_loss: 1.4593 - val_accuracy: 0.3842 - 22s/epoch - 864ms/step\n",
            "Epoch 2/20\n",
            "25/25 - 2s - loss: 1.4714 - accuracy: 0.3695 - val_loss: 1.4660 - val_accuracy: 0.3644 - 2s/epoch - 98ms/step\n",
            "Epoch 3/20\n",
            "25/25 - 3s - loss: 1.4533 - accuracy: 0.3736 - val_loss: 1.4382 - val_accuracy: 0.3729 - 3s/epoch - 120ms/step\n",
            "Epoch 4/20\n",
            "25/25 - 2s - loss: 1.4424 - accuracy: 0.3777 - val_loss: 1.4124 - val_accuracy: 0.3870 - 2s/epoch - 93ms/step\n",
            "Epoch 5/20\n",
            "25/25 - 2s - loss: 1.4268 - accuracy: 0.3884 - val_loss: 1.4067 - val_accuracy: 0.4153 - 2s/epoch - 63ms/step\n",
            "Epoch 6/20\n",
            "25/25 - 2s - loss: 1.4174 - accuracy: 0.3940 - val_loss: 1.3975 - val_accuracy: 0.4266 - 2s/epoch - 63ms/step\n",
            "Epoch 7/20\n",
            "25/25 - 2s - loss: 1.3981 - accuracy: 0.3984 - val_loss: 1.4027 - val_accuracy: 0.3983 - 2s/epoch - 63ms/step\n",
            "Epoch 8/20\n",
            "25/25 - 2s - loss: 1.3935 - accuracy: 0.4192 - val_loss: 1.3927 - val_accuracy: 0.3955 - 2s/epoch - 65ms/step\n",
            "Epoch 9/20\n",
            "25/25 - 2s - loss: 1.3823 - accuracy: 0.4154 - val_loss: 1.3902 - val_accuracy: 0.4096 - 2s/epoch - 63ms/step\n",
            "Epoch 10/20\n",
            "25/25 - 2s - loss: 1.3862 - accuracy: 0.4148 - val_loss: 1.3981 - val_accuracy: 0.4040 - 2s/epoch - 68ms/step\n",
            "Epoch 11/20\n",
            "25/25 - 2s - loss: 1.3770 - accuracy: 0.4280 - val_loss: 1.3981 - val_accuracy: 0.3898 - 2s/epoch - 67ms/step\n",
            "Epoch 12/20\n",
            "25/25 - 2s - loss: 1.3755 - accuracy: 0.4208 - val_loss: 1.3957 - val_accuracy: 0.4237 - 2s/epoch - 71ms/step\n",
            "Epoch 13/20\n",
            "25/25 - 2s - loss: 1.3667 - accuracy: 0.4217 - val_loss: 1.3836 - val_accuracy: 0.4181 - 2s/epoch - 64ms/step\n",
            "Epoch 14/20\n",
            "25/25 - 2s - loss: 1.3470 - accuracy: 0.4321 - val_loss: 1.3713 - val_accuracy: 0.4266 - 2s/epoch - 64ms/step\n",
            "Epoch 15/20\n",
            "25/25 - 2s - loss: 1.3453 - accuracy: 0.4396 - val_loss: 1.3773 - val_accuracy: 0.4266 - 2s/epoch - 64ms/step\n",
            "Epoch 16/20\n",
            "25/25 - 2s - loss: 1.3375 - accuracy: 0.4393 - val_loss: 1.3952 - val_accuracy: 0.4153 - 2s/epoch - 64ms/step\n",
            "Epoch 17/20\n",
            "25/25 - 2s - loss: 1.3347 - accuracy: 0.4396 - val_loss: 1.4101 - val_accuracy: 0.4011 - 2s/epoch - 64ms/step\n",
            "Epoch 18/20\n",
            "25/25 - 2s - loss: 1.3274 - accuracy: 0.4381 - val_loss: 1.3790 - val_accuracy: 0.4096 - 2s/epoch - 65ms/step\n",
            "Epoch 19/20\n",
            "25/25 - 2s - loss: 1.3280 - accuracy: 0.4472 - val_loss: 1.3748 - val_accuracy: 0.4266 - 2s/epoch - 68ms/step\n",
            "Epoch 20/20\n",
            "25/25 - 3s - loss: 1.3133 - accuracy: 0.4619 - val_loss: 1.3633 - val_accuracy: 0.4407 - 3s/epoch - 122ms/step\n"
          ]
        }
      ]
    },
    {
      "cell_type": "code",
      "execution_count": null,
      "metadata": {
        "colab": {
          "base_uri": "https://localhost:8080/"
        },
        "id": "rXK8rdGB6UW5",
        "outputId": "4f8aa2ba-cb77-49c2-d799-83ba58b40f25"
      },
      "outputs": [
        {
          "output_type": "stream",
          "name": "stdout",
          "text": [
            "20/20 [==============================] - 3s 42ms/step\n",
            "                precision    recall  f1-score   support\n",
            "\n",
            "Mixed Feelings       0.31      0.06      0.09        72\n",
            "      Negative       0.48      0.09      0.16       118\n",
            "       Neutral       0.44      0.52      0.48       147\n",
            "  Not_relevant       0.43      0.58      0.50       156\n",
            "      Positive       0.38      0.58      0.46       131\n",
            "\n",
            "      accuracy                           0.42       624\n",
            "     macro avg       0.41      0.37      0.34       624\n",
            "  weighted avg       0.42      0.42      0.37       624\n",
            "\n"
          ]
        }
      ],
      "source": [
        "print(classification_report([diz_label[i] for i in np.argmax(y_test, axis=1)],\n",
        "                            [diz_label[i] for i in np.argmax(model.predict([sequence_test]*1), axis=1)]))"
      ]
    },
    {
      "cell_type": "code",
      "source": [
        "def plot_graphs(history, string):\n",
        "  plt.plot(history.history[string])\n",
        "  plt.plot(history.history['val_'+string])\n",
        "  plt.xlabel(\"Epochs\")\n",
        "  plt.ylabel(string)\n",
        "  plt.legend([string, 'val_'+string])\n",
        "  plt.show()"
      ],
      "metadata": {
        "id": "F6WRoXjOhGtg"
      },
      "execution_count": null,
      "outputs": []
    },
    {
      "cell_type": "code",
      "execution_count": null,
      "metadata": {
        "colab": {
          "base_uri": "https://localhost:8080/",
          "height": 881
        },
        "id": "M_fazh9vWcXL",
        "outputId": "d34af9d4-d427-4fd7-81cd-eeb39eb0121c"
      },
      "outputs": [
        {
          "output_type": "display_data",
          "data": {
            "text/plain": [
              "<Figure size 640x480 with 1 Axes>"
            ],
            "image/png": "[encoded data removed]"
          },
          "metadata": {}
        },
        {
          "output_type": "display_data",
          "data": {
            "text/plain": [
              "<Figure size 640x480 with 1 Axes>"
            ],
            "image/png": "[encoded data removed]"
          },
          "metadata": {}
        }
      ],
      "source": [
        "plot_graphs(history, \"accuracy\")\n",
        "plot_graphs(history, \"loss\")"
      ]
    }
  ]
}