{
  "nbformat": 4,
  "nbformat_minor": 0,
  "metadata": {
    "colab": {
      "provenance": [],
      "gpuType": "T4",
      "authorship_tag": "ABX9TyOIhVVtXDf0rfsspv6Ajoi4"
    },
    "kernelspec": {
      "name": "python3",
      "display_name": "Python 3"
    },
    "language_info": {
      "name": "python"
    },
    "accelerator": "GPU"
  },
  "cells": [
    {
      "cell_type": "code",
      "execution_count": null,
      "metadata": {
        "colab": {
          "base_uri": "https://localhost:8080/"
        },
        "id": "qq_cUiNW8WFf",
        "outputId": "a7aa3c21-4d55-4219-92b5-9b9c874a29de"
      },
      "outputs": [
        {
          "output_type": "stream",
          "name": "stdout",
          "text": [
            "Mounted at /content/drive\n"
          ]
        }
      ],
      "source": [
        "from google.colab import drive\n",
        "drive.mount('/content/drive')"
      ]
    },
    {
      "cell_type": "code",
      "execution_count": null,
      "metadata": {
        "colab": {
          "base_uri": "https://localhost:8080/"
        },
        "id": "j4DtTuTm3IyV",
        "outputId": "ed51f25c-bfc4-427c-d8d5-82f5b0b8d245"
      },
      "outputs": [
        {
          "output_type": "stream",
          "name": "stdout",
          "text": [
            "Collecting np_utils\n",
            "  Downloading np_utils-0.6.0.tar.gz (61 kB)\n",
            "\u001b[2K     \u001b[90m━━━━━━━━━━━━━━━━━━━━━━━━━━━━━━━━━━━━━━━━\u001b[0m \u001b[32m62.0/62.0 kB\u001b[0m \u001b[31m869.6 kB/s\u001b[0m eta \u001b[36m0:00:00\u001b[0m\n",
            "\u001b[?25h  Preparing metadata (setup.py) ... \u001b[?25l\u001b[?25hdone\n",
            "Requirement already satisfied: numpy>=1.0 in /usr/local/lib/python3.10/dist-packages (from np_utils) (1.23.5)\n",
            "Building wheels for collected packages: np_utils\n",
            "  Building wheel for np_utils (setup.py) ... \u001b[?25l\u001b[?25hdone\n",
            "  Created wheel for np_utils: filename=np_utils-0.6.0-py3-none-any.whl size=56439 sha256=653f41698baa4a78a269d710285cc0a3871c123a584311fe1fd7bbbadc461828\n",
            "  Stored in directory: /root/.cache/pip/wheels/b6/c7/50/2307607f44366dd021209f660045f8d51cb976514d30be7cc7\n",
            "Successfully built np_utils\n",
            "Installing collected packages: np_utils\n",
            "Successfully installed np_utils-0.6.0\n"
          ]
        }
      ],
      "source": [
        "!pip install np_utils"
      ]
    },
    {
      "cell_type": "code",
      "execution_count": null,
      "metadata": {
        "id": "t78h33pQ271h"
      },
      "outputs": [],
      "source": [
        "import numpy as np\n",
        "import pandas as pd\n",
        "import matplotlib.pyplot as plt\n",
        "import itertools\n",
        "import string\n",
        "from tqdm import tqdm_notebook as tqdm\n",
        "\n",
        "from gensim.models import *\n",
        "\n",
        "from keras.preprocessing.text import Tokenizer\n",
        "from keras.preprocessing.sequence import pad_sequences\n",
        "from keras.layers import *\n",
        "from keras.models import *\n",
        "import keras.backend as K\n",
        "import np_utils\n",
        "\n",
        "from sklearn.model_selection import train_test_split\n",
        "from sklearn.metrics import classification_report, confusion_matrix\n",
        "\n",
        "import os\n",
        "os.environ[\"CUDA_DEVICE_ORDER\"]=\"PCI_BUS_ID\"\n",
        "os.environ[\"CUDA_VISIBLE_DEVICES\"]=\"0\""
      ]
    },
    {
      "cell_type": "code",
      "execution_count": null,
      "metadata": {
        "id": "HR8MOvly3gMp"
      },
      "outputs": [],
      "source": [
        "def plot_confusion_matrix(cm, classes, title='Confusion matrix', cmap=plt.cm.Blues):\n",
        "\n",
        "    cm = cm.astype('float') / cm.sum(axis=1)[:, np.newaxis]\n",
        "\n",
        "    plt.imshow(cm, interpolation='nearest', cmap=cmap)\n",
        "    plt.title(title, fontsize=25)\n",
        "    #plt.colorbar()\n",
        "    tick_marks = np.arange(len(classes))\n",
        "    plt.xticks(tick_marks, classes, rotation=90, fontsize=15)\n",
        "    plt.yticks(tick_marks, classes, fontsize=15)\n",
        "\n",
        "    fmt = '.2f'\n",
        "    thresh = cm.max() / 2.\n",
        "    for i, j in itertools.product(range(cm.shape[0]), range(cm.shape[1])):\n",
        "        plt.text(j, i, format(cm[i, j], fmt),\n",
        "                 horizontalalignment=\"center\",\n",
        "                 color=\"white\" if cm[i, j] > thresh else \"black\", fontsize = 14)\n",
        "\n",
        "    plt.ylabel('True label', fontsize=20)\n",
        "    plt.xlabel('Predicted label', fontsize=20)"
      ]
    },
    {
      "cell_type": "code",
      "execution_count": null,
      "metadata": {
        "colab": {
          "base_uri": "https://localhost:8080/",
          "height": 442
        },
        "id": "FbIU5nNCKN1H",
        "outputId": "6cb340ca-86fd-42f6-b9e8-52cdbb1f36b8"
      },
      "outputs": [
        {
          "output_type": "stream",
          "name": "stdout",
          "text": [
            "(4158, 2)\n"
          ]
        },
        {
          "output_type": "execute_result",
          "data": {
            "text/plain": [
              "                                            Review_Text Sentiment_Class\n",
              "0          Bro njn 13 pro edukkan noknond suggestions??    Not_relevant\n",
              "1                            Tech inte ambassador 🤘😉🔥🔥🔥        Positive\n",
              "2                                         Ivan aradey 😳        Negative\n",
              "3                Bro 13 pro 256 gb green available anno         Neutral\n",
              "4                      samsung company ethra tharunundh         Neutral\n",
              "...                                                 ...             ...\n",
              "4153   എന്നാൽ നിനക്ക് rs 5000 രൂപ സമ്മാനം relieved face    Not_relevant\n",
              "4154  സുഹുർത്തെ tesla pi ഫോൺ ഇറങ്ങിയതോടെ apple i pho...  Mixed Feelings\n",
              "4155  real me 10 pro vs redmi note 12 pro വീഡിയോ ചെയ...    Not_relevant\n",
              "4156  ഇതിന്റെ google dailer and messaging app miui ട...         Neutral\n",
              "4157  എവിടെ backgroundil golden playbutton എവിടെ eye...    Not_relevant\n",
              "\n",
              "[4158 rows x 2 columns]"
            ],
            "text/html": [
              "\n",
              "  <div id=\"df-c97111f1-eae4-470a-a520-0a76b085f702\" class=\"colab-df-container\">\n",
              "    <div>\n",
              "<style scoped>\n",
              "    .dataframe tbody tr th:only-of-type {\n",
              "        vertical-align: middle;\n",
              "    }\n",
              "\n",
              "    .dataframe tbody tr th {\n",
              "        vertical-align: top;\n",
              "    }\n",
              "\n",
              "    .dataframe thead th {\n",
              "        text-align: right;\n",
              "    }\n",
              "</style>\n",
              "<table border=\"1\" class=\"dataframe\">\n",
              "  <thead>\n",
              "    <tr style=\"text-align: right;\">\n",
              "      <th></th>\n",
              "      <th>Review_Text</th>\n",
              "      <th>Sentiment_Class</th>\n",
              "    </tr>\n",
              "  </thead>\n",
              "  <tbody>\n",
              "    <tr>\n",
              "      <th>0</th>\n",
              "      <td>Bro njn 13 pro edukkan noknond suggestions??</td>\n",
              "      <td>Not_relevant</td>\n",
              "    </tr>\n",
              "    <tr>\n",
              "      <th>1</th>\n",
              "      <td>Tech inte ambassador 🤘😉🔥🔥🔥</td>\n",
              "      <td>Positive</td>\n",
              "    </tr>\n",
              "    <tr>\n",
              "      <th>2</th>\n",
              "      <td>Ivan aradey 😳</td>\n",
              "      <td>Negative</td>\n",
              "    </tr>\n",
              "    <tr>\n",
              "      <th>3</th>\n",
              "      <td>Bro 13 pro 256 gb green available anno</td>\n",
              "      <td>Neutral</td>\n",
              "    </tr>\n",
              "    <tr>\n",
              "      <th>4</th>\n",
              "      <td>samsung company ethra tharunundh</td>\n",
              "      <td>Neutral</td>\n",
              "    </tr>\n",
              "    <tr>\n",
              "      <th>...</th>\n",
              "      <td>...</td>\n",
              "      <td>...</td>\n",
              "    </tr>\n",
              "    <tr>\n",
              "      <th>4153</th>\n",
              "      <td>എന്നാൽ നിനക്ക് rs 5000 രൂപ സമ്മാനം relieved face</td>\n",
              "      <td>Not_relevant</td>\n",
              "    </tr>\n",
              "    <tr>\n",
              "      <th>4154</th>\n",
              "      <td>സുഹുർത്തെ tesla pi ഫോൺ ഇറങ്ങിയതോടെ apple i pho...</td>\n",
              "      <td>Mixed Feelings</td>\n",
              "    </tr>\n",
              "    <tr>\n",
              "      <th>4155</th>\n",
              "      <td>real me 10 pro vs redmi note 12 pro വീഡിയോ ചെയ...</td>\n",
              "      <td>Not_relevant</td>\n",
              "    </tr>\n",
              "    <tr>\n",
              "      <th>4156</th>\n",
              "      <td>ഇതിന്റെ google dailer and messaging app miui ട...</td>\n",
              "      <td>Neutral</td>\n",
              "    </tr>\n",
              "    <tr>\n",
              "      <th>4157</th>\n",
              "      <td>എവിടെ backgroundil golden playbutton എവിടെ eye...</td>\n",
              "      <td>Not_relevant</td>\n",
              "    </tr>\n",
              "  </tbody>\n",
              "</table>\n",
              "<p>4158 rows × 2 columns</p>\n",
              "</div>\n",
              "    <div class=\"colab-df-buttons\">\n",
              "\n",
              "  <div class=\"colab-df-container\">\n",
              "    <button class=\"colab-df-convert\" onclick=\"convertToInteractive('df-c97111f1-eae4-470a-a520-0a76b085f702')\"\n",
              "            title=\"Convert this dataframe to an interactive table.\"\n",
              "            style=\"display:none;\">\n",
              "\n",
              "  <svg xmlns=\"http://www.w3.org/2000/svg\" height=\"24px\" viewBox=\"0 -960 960 960\">\n",
              "    <path d=\"M120-120v-720h720v720H120Zm60-500h600v-160H180v160Zm220 220h160v-160H400v160Zm0 220h160v-160H400v160ZM180-400h160v-160H180v160Zm440 0h160v-160H620v160ZM180-180h160v-160H180v160Zm440 0h160v-160H620v160Z\"/>\n",
              "  </svg>\n",
              "    </button>\n",
              "\n",
              "  <style>\n",
              "    .colab-df-container {\n",
              "      display:flex;\n",
              "      gap: 12px;\n",
              "    }\n",
              "\n",
              "    .colab-df-convert {\n",
              "      background-color: #E8F0FE;\n",
              "      border: none;\n",
              "      border-radius: 50%;\n",
              "      cursor: pointer;\n",
              "      display: none;\n",
              "      fill: #1967D2;\n",
              "      height: 32px;\n",
              "      padding: 0 0 0 0;\n",
              "      width: 32px;\n",
              "    }\n",
              "\n",
              "    .colab-df-convert:hover {\n",
              "      background-color: #E2EBFA;\n",
              "      box-shadow: 0px 1px 2px rgba(60, 64, 67, 0.3), 0px 1px 3px 1px rgba(60, 64, 67, 0.15);\n",
              "      fill: #174EA6;\n",
              "    }\n",
              "\n",
              "    .colab-df-buttons div {\n",
              "      margin-bottom: 4px;\n",
              "    }\n",
              "\n",
              "    [theme=dark] .colab-df-convert {\n",
              "      background-color: #3B4455;\n",
              "      fill: #D2E3FC;\n",
              "    }\n",
              "\n",
              "    [theme=dark] .colab-df-convert:hover {\n",
              "      background-color: #434B5C;\n",
              "      box-shadow: 0px 1px 3px 1px rgba(0, 0, 0, 0.15);\n",
              "      filter: drop-shadow(0px 1px 2px rgba(0, 0, 0, 0.3));\n",
              "      fill: #FFFFFF;\n",
              "    }\n",
              "  </style>\n",
              "\n",
              "    <script>\n",
              "      const buttonEl =\n",
              "        document.querySelector('#df-c97111f1-eae4-470a-a520-0a76b085f702 button.colab-df-convert');\n",
              "      buttonEl.style.display =\n",
              "        google.colab.kernel.accessAllowed ? 'block' : 'none';\n",
              "\n",
              "      async function convertToInteractive(key) {\n",
              "        const element = document.querySelector('#df-c97111f1-eae4-470a-a520-0a76b085f702');\n",
              "        const dataTable =\n",
              "          await google.colab.kernel.invokeFunction('convertToInteractive',\n",
              "                                                    [key], {});\n",
              "        if (!dataTable) return;\n",
              "\n",
              "        const docLinkHtml = 'Like what you see? Visit the ' +\n",
              "          '<a target=\"_blank\" href=https://colab.research.google.com/notebooks/data_table.ipynb>data table notebook</a>'\n",
              "          + ' to learn more about interactive tables.';\n",
              "        element.innerHTML = '';\n",
              "        dataTable['output_type'] = 'display_data';\n",
              "        await google.colab.output.renderOutput(dataTable, element);\n",
              "        const docLink = document.createElement('div');\n",
              "        docLink.innerHTML = docLinkHtml;\n",
              "        element.appendChild(docLink);\n",
              "      }\n",
              "    </script>\n",
              "  </div>\n",
              "\n",
              "\n",
              "<div id=\"df-471b3d16-9aa3-42df-9b6f-c9a534240458\">\n",
              "  <button class=\"colab-df-quickchart\" onclick=\"quickchart('df-471b3d16-9aa3-42df-9b6f-c9a534240458')\"\n",
              "            title=\"Suggest charts\"\n",
              "            style=\"display:none;\">\n",
              "\n",
              "<svg xmlns=\"http://www.w3.org/2000/svg\" height=\"24px\"viewBox=\"0 0 24 24\"\n",
              "     width=\"24px\">\n",
              "    <g>\n",
              "        <path d=\"M19 3H5c-1.1 0-2 .9-2 2v14c0 1.1.9 2 2 2h14c1.1 0 2-.9 2-2V5c0-1.1-.9-2-2-2zM9 17H7v-7h2v7zm4 0h-2V7h2v10zm4 0h-2v-4h2v4z\"/>\n",
              "    </g>\n",
              "</svg>\n",
              "  </button>\n",
              "\n",
              "<style>\n",
              "  .colab-df-quickchart {\n",
              "      --bg-color: #E8F0FE;\n",
              "      --fill-color: #1967D2;\n",
              "      --hover-bg-color: #E2EBFA;\n",
              "      --hover-fill-color: #174EA6;\n",
              "      --disabled-fill-color: #AAA;\n",
              "      --disabled-bg-color: #DDD;\n",
              "  }\n",
              "\n",
              "  [theme=dark] .colab-df-quickchart {\n",
              "      --bg-color: #3B4455;\n",
              "      --fill-color: #D2E3FC;\n",
              "      --hover-bg-color: #434B5C;\n",
              "      --hover-fill-color: #FFFFFF;\n",
              "      --disabled-bg-color: #3B4455;\n",
              "      --disabled-fill-color: #666;\n",
              "  }\n",
              "\n",
              "  .colab-df-quickchart {\n",
              "    background-color: var(--bg-color);\n",
              "    border: none;\n",
              "    border-radius: 50%;\n",
              "    cursor: pointer;\n",
              "    display: none;\n",
              "    fill: var(--fill-color);\n",
              "    height: 32px;\n",
              "    padding: 0;\n",
              "    width: 32px;\n",
              "  }\n",
              "\n",
              "  .colab-df-quickchart:hover {\n",
              "    background-color: var(--hover-bg-color);\n",
              "    box-shadow: 0 1px 2px rgba(60, 64, 67, 0.3), 0 1px 3px 1px rgba(60, 64, 67, 0.15);\n",
              "    fill: var(--button-hover-fill-color);\n",
              "  }\n",
              "\n",
              "  .colab-df-quickchart-complete:disabled,\n",
              "  .colab-df-quickchart-complete:disabled:hover {\n",
              "    background-color: var(--disabled-bg-color);\n",
              "    fill: var(--disabled-fill-color);\n",
              "    box-shadow: none;\n",
              "  }\n",
              "\n",
              "  .colab-df-spinner {\n",
              "    border: 2px solid var(--fill-color);\n",
              "    border-color: transparent;\n",
              "    border-bottom-color: var(--fill-color);\n",
              "    animation:\n",
              "      spin 1s steps(1) infinite;\n",
              "  }\n",
              "\n",
              "  @keyframes spin {\n",
              "    0% {\n",
              "      border-color: transparent;\n",
              "      border-bottom-color: var(--fill-color);\n",
              "      border-left-color: var(--fill-color);\n",
              "    }\n",
              "    20% {\n",
              "      border-color: transparent;\n",
              "      border-left-color: var(--fill-color);\n",
              "      border-top-color: var(--fill-color);\n",
              "    }\n",
              "    30% {\n",
              "      border-color: transparent;\n",
              "      border-left-color: var(--fill-color);\n",
              "      border-top-color: var(--fill-color);\n",
              "      border-right-color: var(--fill-color);\n",
              "    }\n",
              "    40% {\n",
              "      border-color: transparent;\n",
              "      border-right-color: var(--fill-color);\n",
              "      border-top-color: var(--fill-color);\n",
              "    }\n",
              "    60% {\n",
              "      border-color: transparent;\n",
              "      border-right-color: var(--fill-color);\n",
              "    }\n",
              "    80% {\n",
              "      border-color: transparent;\n",
              "      border-right-color: var(--fill-color);\n",
              "      border-bottom-color: var(--fill-color);\n",
              "    }\n",
              "    90% {\n",
              "      border-color: transparent;\n",
              "      border-bottom-color: var(--fill-color);\n",
              "    }\n",
              "  }\n",
              "</style>\n",
              "\n",
              "  <script>\n",
              "    async function quickchart(key) {\n",
              "      const quickchartButtonEl =\n",
              "        document.querySelector('#' + key + ' button');\n",
              "      quickchartButtonEl.disabled = true;  // To prevent multiple clicks.\n",
              "      quickchartButtonEl.classList.add('colab-df-spinner');\n",
              "      try {\n",
              "        const charts = await google.colab.kernel.invokeFunction(\n",
              "            'suggestCharts', [key], {});\n",
              "      } catch (error) {\n",
              "        console.error('Error during call to suggestCharts:', error);\n",
              "      }\n",
              "      quickchartButtonEl.classList.remove('colab-df-spinner');\n",
              "      quickchartButtonEl.classList.add('colab-df-quickchart-complete');\n",
              "    }\n",
              "    (() => {\n",
              "      let quickchartButtonEl =\n",
              "        document.querySelector('#df-471b3d16-9aa3-42df-9b6f-c9a534240458 button');\n",
              "      quickchartButtonEl.style.display =\n",
              "        google.colab.kernel.accessAllowed ? 'block' : 'none';\n",
              "    })();\n",
              "  </script>\n",
              "</div>\n",
              "    </div>\n",
              "  </div>\n"
            ]
          },
          "metadata": {},
          "execution_count": 5
        }
      ],
      "source": [
        "### READ DATA ###\n",
        "df=pd.read_csv('/content/drive/MyDrive/com_reviews_MP.csv',  sep=',')\n",
        "column_to_drop = 'Unnamed: 0'\n",
        "df = df.drop(column_to_drop, axis=1)\n",
        "print(df.shape)\n",
        "df"
      ]
    },
    {
      "cell_type": "code",
      "execution_count": null,
      "metadata": {
        "id": "0cSB908Dz854"
      },
      "outputs": [],
      "source": [
        "text=df['Review_Text']\n",
        "labels=df['Sentiment_Class']"
      ]
    },
    {
      "cell_type": "code",
      "execution_count": null,
      "metadata": {
        "colab": {
          "base_uri": "https://localhost:8080/"
        },
        "outputId": "5535a6f6-cf58-4725-9fc5-d61c2a8d2483",
        "id": "MNuRfeYPE6f5"
      },
      "outputs": [
        {
          "output_type": "stream",
          "name": "stderr",
          "text": [
            "[nltk_data] Downloading package punkt to /root/nltk_data...\n",
            "[nltk_data]   Unzipping tokenizers/punkt.zip.\n",
            "[nltk_data] Downloading package stopwords to /root/nltk_data...\n",
            "[nltk_data]   Unzipping corpora/stopwords.zip.\n",
            "[nltk_data] Downloading package wordnet to /root/nltk_data...\n"
          ]
        }
      ],
      "source": [
        "import re\n",
        "import nltk\n",
        "nltk.download('punkt')\n",
        "nltk.download('stopwords')\n",
        "nltk.download('wordnet')\n",
        "from nltk.corpus import stopwords\n",
        "from nltk.tokenize import word_tokenize"
      ]
    },
    {
      "cell_type": "code",
      "execution_count": null,
      "metadata": {
        "id": "CDx5FJplE6f5"
      },
      "outputs": [],
      "source": [
        "from tqdm import tqdm\n",
        "tqdm.pandas()\n",
        "from nltk.stem.lancaster import LancasterStemmer\n",
        "lancaster_stemmer = LancasterStemmer()\n",
        "from nltk.stem import WordNetLemmatizer\n",
        "wordnet_lemmatizer = WordNetLemmatizer()\n",
        "\n",
        "from sklearn.feature_extraction.text import TfidfVectorizer\n"
      ]
    },
    {
      "cell_type": "code",
      "execution_count": null,
      "metadata": {
        "colab": {
          "base_uri": "https://localhost:8080/"
        },
        "id": "gJrY_UoVq81h",
        "outputId": "88df0493-4d8b-4f51-946a-73394930a434"
      },
      "outputs": [
        {
          "output_type": "execute_result",
          "data": {
            "text/plain": [
              "0            Bro njn 13 pro edukkan noknond suggestions??\n",
              "1                              Tech inte ambassador 🤘😉🔥🔥🔥\n",
              "2                                           Ivan aradey 😳\n",
              "3                  Bro 13 pro 256 gb green available anno\n",
              "4                        samsung company ethra tharunundh\n",
              "                              ...                        \n",
              "4153     എന്നാൽ നിനക്ക് rs 5000 രൂപ സമ്മാനം relieved face\n",
              "4154    സുഹുർത്തെ tesla pi ഫോൺ ഇറങ്ങിയതോടെ apple i pho...\n",
              "4155    real me 10 pro vs redmi note 12 pro വീഡിയോ ചെയ...\n",
              "4156    ഇതിന്റെ google dailer and messaging app miui ട...\n",
              "4157    എവിടെ backgroundil golden playbutton എവിടെ eye...\n",
              "Name: Review_Text, Length: 4158, dtype: object"
            ]
          },
          "metadata": {},
          "execution_count": 9
        }
      ],
      "source": [
        "import copy\n",
        "clean_texts=copy.deepcopy(text)\n",
        "clean_texts"
      ]
    },
    {
      "cell_type": "code",
      "execution_count": null,
      "metadata": {
        "colab": {
          "base_uri": "https://localhost:8080/"
        },
        "outputId": "d18553f2-6b00-445e-8262-79cd59d98683",
        "id": "TKgNLNnJE6f6"
      },
      "outputs": [
        {
          "output_type": "stream",
          "name": "stdout",
          "text": [
            "Collecting emoji\n",
            "  Downloading emoji-2.9.0-py2.py3-none-any.whl (397 kB)\n",
            "\u001b[2K     \u001b[90m━━━━━━━━━━━━━━━━━━━━━━━━━━━━━━━━━━━━━━━━\u001b[0m \u001b[32m397.5/397.5 kB\u001b[0m \u001b[31m3.1 MB/s\u001b[0m eta \u001b[36m0:00:00\u001b[0m\n",
            "\u001b[?25hInstalling collected packages: emoji\n",
            "Successfully installed emoji-2.9.0\n"
          ]
        }
      ],
      "source": [
        "!pip install emoji"
      ]
    },
    {
      "cell_type": "code",
      "execution_count": null,
      "metadata": {
        "id": "CoA8V5yzE6f6"
      },
      "outputs": [],
      "source": [
        "import emoji\n",
        "text1 = \"game is on 🔥 🔥\"\n",
        "txt=emoji.demojize(text1, delimiters=(\"\", \"\"))  # 'game is on fire fire'\n",
        "# txt=':'+txt\n",
        "# txt\n"
      ]
    },
    {
      "cell_type": "code",
      "execution_count": null,
      "metadata": {
        "colab": {
          "base_uri": "https://localhost:8080/"
        },
        "id": "NHyYrhGRcRfq",
        "outputId": "741660d1-5f2f-4073-bc2b-b55ae6c7f8df"
      },
      "outputs": [
        {
          "output_type": "stream",
          "name": "stderr",
          "text": [
            "100%|██████████| 4158/4158 [00:01<00:00, 2835.27it/s]\n"
          ]
        },
        {
          "output_type": "execute_result",
          "data": {
            "text/plain": [
              "0            Bro njn 13 pro edukkan noknond suggestions??\n",
              "1       Tech inte ambassador :sign_of_the_horns::winki...\n",
              "2                              Ivan aradey :flushed_face:\n",
              "3                  Bro 13 pro 256 gb green available anno\n",
              "4                        samsung company ethra tharunundh\n",
              "                              ...                        \n",
              "4153     എന്നാൽ നിനക്ക് rs 5000 രൂപ സമ്മാനം relieved face\n",
              "4154    സുഹുർത്തെ tesla pi ഫോൺ ഇറങ്ങിയതോടെ apple i pho...\n",
              "4155    real me 10 pro vs redmi note 12 pro വീഡിയോ ചെയ...\n",
              "4156    ഇതിന്റെ google dailer and messaging app miui ട...\n",
              "4157    എവിടെ backgroundil golden playbutton എവിടെ eye...\n",
              "Name: Review_Text, Length: 4158, dtype: object"
            ]
          },
          "metadata": {},
          "execution_count": 12
        }
      ],
      "source": [
        "def emoji_text(text):\n",
        "    # conv_text = \"\"\n",
        "    conv_text = emoji.demojize(text)\n",
        "    return conv_text\n",
        "\n",
        "clean_texts= text.progress_apply(emoji_text)\n",
        "clean_texts"
      ]
    },
    {
      "cell_type": "code",
      "execution_count": null,
      "metadata": {
        "colab": {
          "base_uri": "https://localhost:8080/"
        },
        "outputId": "8cf79e52-e6b1-423f-956d-5251da871e50",
        "id": "M4L2oumGE6f6"
      },
      "outputs": [
        {
          "output_type": "stream",
          "name": "stderr",
          "text": [
            "100%|██████████| 4158/4158 [00:01<00:00, 3688.25it/s]\n"
          ]
        }
      ],
      "source": [
        "# Define a function to clean the code-mixed text while preserving the order\n",
        "def clean_code_mixed_text(text):\n",
        "    cleaned_text = \"\"\n",
        "    current_language = None\n",
        "    current_segment = \"\"\n",
        "\n",
        "    # Iterate through each character in the input text\n",
        "    for char in text:\n",
        "        if re.match(r'[a-zA-Z]', char):\n",
        "            if current_language == 'en' or current_language is None:\n",
        "                current_segment += char\n",
        "                current_language = 'en'\n",
        "            else:\n",
        "                cleaned_text += current_segment + ' '\n",
        "                current_segment = char\n",
        "                current_language = 'en'\n",
        "        elif re.match(r'[ം-ൿ]', char):\n",
        "            if current_language == 'ml' or current_language is None:\n",
        "                current_segment += char\n",
        "                current_language = 'ml'\n",
        "            else:\n",
        "                cleaned_text += current_segment + ' '\n",
        "                current_segment = char\n",
        "                current_language = 'ml'\n",
        "        else:\n",
        "            if current_segment:\n",
        "                cleaned_text += current_segment + ' '\n",
        "            current_segment = \"\"\n",
        "            current_language = None\n",
        "\n",
        "    # Add the last segment\n",
        "    if current_segment:\n",
        "        cleaned_text += current_segment\n",
        "\n",
        "    return cleaned_text.strip()\n",
        "\n",
        "cleaned_text = clean_texts.progress_apply(clean_code_mixed_text)\n",
        "cleaned_text = cleaned_text.str.lower()"
      ]
    },
    {
      "cell_type": "code",
      "execution_count": null,
      "metadata": {
        "colab": {
          "base_uri": "https://localhost:8080/",
          "height": 460
        },
        "outputId": "80f86e5a-c983-4894-dce4-552b62eff54a",
        "id": "NwYCXJaaE6f6"
      },
      "outputs": [
        {
          "output_type": "stream",
          "name": "stdout",
          "text": [
            "Cleaned Text:\n",
            "\n"
          ]
        },
        {
          "output_type": "execute_result",
          "data": {
            "text/plain": [
              "                                            Review_Text\n",
              "0               bro njn pro edukkan noknond suggestions\n",
              "1     tech inte ambassador sign of the horns winking...\n",
              "2                              ivan aradey flushed face\n",
              "3                       bro pro gb green available anno\n",
              "4                      samsung company ethra tharunundh\n",
              "...                                                 ...\n",
              "4153        എന്നാൽ നിനക്ക് rs രൂപ സമ്മാനം relieved face\n",
              "4154  സുഹുർത്തെ tesla pi ഫോൺ ഇറങ്ങിയതോടെ apple i pho...\n",
              "4155  real me pro vs redmi note pro വീഡിയോ ചെയ്യണേ ബ...\n",
              "4156  ഇതിന്റെ google dailer and messaging app miui ട...\n",
              "4157  എവിടെ backgroundil golden playbutton എവിടെ eye...\n",
              "\n",
              "[4158 rows x 1 columns]"
            ],
            "text/html": [
              "\n",
              "  <div id=\"df-68e1552a-d9ce-44db-9e90-869570b8ae93\" class=\"colab-df-container\">\n",
              "    <div>\n",
              "<style scoped>\n",
              "    .dataframe tbody tr th:only-of-type {\n",
              "        vertical-align: middle;\n",
              "    }\n",
              "\n",
              "    .dataframe tbody tr th {\n",
              "        vertical-align: top;\n",
              "    }\n",
              "\n",
              "    .dataframe thead th {\n",
              "        text-align: right;\n",
              "    }\n",
              "</style>\n",
              "<table border=\"1\" class=\"dataframe\">\n",
              "  <thead>\n",
              "    <tr style=\"text-align: right;\">\n",
              "      <th></th>\n",
              "      <th>Review_Text</th>\n",
              "    </tr>\n",
              "  </thead>\n",
              "  <tbody>\n",
              "    <tr>\n",
              "      <th>0</th>\n",
              "      <td>bro njn pro edukkan noknond suggestions</td>\n",
              "    </tr>\n",
              "    <tr>\n",
              "      <th>1</th>\n",
              "      <td>tech inte ambassador sign of the horns winking...</td>\n",
              "    </tr>\n",
              "    <tr>\n",
              "      <th>2</th>\n",
              "      <td>ivan aradey flushed face</td>\n",
              "    </tr>\n",
              "    <tr>\n",
              "      <th>3</th>\n",
              "      <td>bro pro gb green available anno</td>\n",
              "    </tr>\n",
              "    <tr>\n",
              "      <th>4</th>\n",
              "      <td>samsung company ethra tharunundh</td>\n",
              "    </tr>\n",
              "    <tr>\n",
              "      <th>...</th>\n",
              "      <td>...</td>\n",
              "    </tr>\n",
              "    <tr>\n",
              "      <th>4153</th>\n",
              "      <td>എന്നാൽ നിനക്ക് rs രൂപ സമ്മാനം relieved face</td>\n",
              "    </tr>\n",
              "    <tr>\n",
              "      <th>4154</th>\n",
              "      <td>സുഹുർത്തെ tesla pi ഫോൺ ഇറങ്ങിയതോടെ apple i pho...</td>\n",
              "    </tr>\n",
              "    <tr>\n",
              "      <th>4155</th>\n",
              "      <td>real me pro vs redmi note pro വീഡിയോ ചെയ്യണേ ബ...</td>\n",
              "    </tr>\n",
              "    <tr>\n",
              "      <th>4156</th>\n",
              "      <td>ഇതിന്റെ google dailer and messaging app miui ട...</td>\n",
              "    </tr>\n",
              "    <tr>\n",
              "      <th>4157</th>\n",
              "      <td>എവിടെ backgroundil golden playbutton എവിടെ eye...</td>\n",
              "    </tr>\n",
              "  </tbody>\n",
              "</table>\n",
              "<p>4158 rows × 1 columns</p>\n",
              "</div>\n",
              "    <div class=\"colab-df-buttons\">\n",
              "\n",
              "  <div class=\"colab-df-container\">\n",
              "    <button class=\"colab-df-convert\" onclick=\"convertToInteractive('df-68e1552a-d9ce-44db-9e90-869570b8ae93')\"\n",
              "            title=\"Convert this dataframe to an interactive table.\"\n",
              "            style=\"display:none;\">\n",
              "\n",
              "  <svg xmlns=\"http://www.w3.org/2000/svg\" height=\"24px\" viewBox=\"0 -960 960 960\">\n",
              "    <path d=\"M120-120v-720h720v720H120Zm60-500h600v-160H180v160Zm220 220h160v-160H400v160Zm0 220h160v-160H400v160ZM180-400h160v-160H180v160Zm440 0h160v-160H620v160ZM180-180h160v-160H180v160Zm440 0h160v-160H620v160Z\"/>\n",
              "  </svg>\n",
              "    </button>\n",
              "\n",
              "  <style>\n",
              "    .colab-df-container {\n",
              "      display:flex;\n",
              "      gap: 12px;\n",
              "    }\n",
              "\n",
              "    .colab-df-convert {\n",
              "      background-color: #E8F0FE;\n",
              "      border: none;\n",
              "      border-radius: 50%;\n",
              "      cursor: pointer;\n",
              "      display: none;\n",
              "      fill: #1967D2;\n",
              "      height: 32px;\n",
              "      padding: 0 0 0 0;\n",
              "      width: 32px;\n",
              "    }\n",
              "\n",
              "    .colab-df-convert:hover {\n",
              "      background-color: #E2EBFA;\n",
              "      box-shadow: 0px 1px 2px rgba(60, 64, 67, 0.3), 0px 1px 3px 1px rgba(60, 64, 67, 0.15);\n",
              "      fill: #174EA6;\n",
              "    }\n",
              "\n",
              "    .colab-df-buttons div {\n",
              "      margin-bottom: 4px;\n",
              "    }\n",
              "\n",
              "    [theme=dark] .colab-df-convert {\n",
              "      background-color: #3B4455;\n",
              "      fill: #D2E3FC;\n",
              "    }\n",
              "\n",
              "    [theme=dark] .colab-df-convert:hover {\n",
              "      background-color: #434B5C;\n",
              "      box-shadow: 0px 1px 3px 1px rgba(0, 0, 0, 0.15);\n",
              "      filter: drop-shadow(0px 1px 2px rgba(0, 0, 0, 0.3));\n",
              "      fill: #FFFFFF;\n",
              "    }\n",
              "  </style>\n",
              "\n",
              "    <script>\n",
              "      const buttonEl =\n",
              "        document.querySelector('#df-68e1552a-d9ce-44db-9e90-869570b8ae93 button.colab-df-convert');\n",
              "      buttonEl.style.display =\n",
              "        google.colab.kernel.accessAllowed ? 'block' : 'none';\n",
              "\n",
              "      async function convertToInteractive(key) {\n",
              "        const element = document.querySelector('#df-68e1552a-d9ce-44db-9e90-869570b8ae93');\n",
              "        const dataTable =\n",
              "          await google.colab.kernel.invokeFunction('convertToInteractive',\n",
              "                                                    [key], {});\n",
              "        if (!dataTable) return;\n",
              "\n",
              "        const docLinkHtml = 'Like what you see? Visit the ' +\n",
              "          '<a target=\"_blank\" href=https://colab.research.google.com/notebooks/data_table.ipynb>data table notebook</a>'\n",
              "          + ' to learn more about interactive tables.';\n",
              "        element.innerHTML = '';\n",
              "        dataTable['output_type'] = 'display_data';\n",
              "        await google.colab.output.renderOutput(dataTable, element);\n",
              "        const docLink = document.createElement('div');\n",
              "        docLink.innerHTML = docLinkHtml;\n",
              "        element.appendChild(docLink);\n",
              "      }\n",
              "    </script>\n",
              "  </div>\n",
              "\n",
              "\n",
              "<div id=\"df-0ac06a54-14f1-49f6-b326-211e7aa1a9f1\">\n",
              "  <button class=\"colab-df-quickchart\" onclick=\"quickchart('df-0ac06a54-14f1-49f6-b326-211e7aa1a9f1')\"\n",
              "            title=\"Suggest charts\"\n",
              "            style=\"display:none;\">\n",
              "\n",
              "<svg xmlns=\"http://www.w3.org/2000/svg\" height=\"24px\"viewBox=\"0 0 24 24\"\n",
              "     width=\"24px\">\n",
              "    <g>\n",
              "        <path d=\"M19 3H5c-1.1 0-2 .9-2 2v14c0 1.1.9 2 2 2h14c1.1 0 2-.9 2-2V5c0-1.1-.9-2-2-2zM9 17H7v-7h2v7zm4 0h-2V7h2v10zm4 0h-2v-4h2v4z\"/>\n",
              "    </g>\n",
              "</svg>\n",
              "  </button>\n",
              "\n",
              "<style>\n",
              "  .colab-df-quickchart {\n",
              "      --bg-color: #E8F0FE;\n",
              "      --fill-color: #1967D2;\n",
              "      --hover-bg-color: #E2EBFA;\n",
              "      --hover-fill-color: #174EA6;\n",
              "      --disabled-fill-color: #AAA;\n",
              "      --disabled-bg-color: #DDD;\n",
              "  }\n",
              "\n",
              "  [theme=dark] .colab-df-quickchart {\n",
              "      --bg-color: #3B4455;\n",
              "      --fill-color: #D2E3FC;\n",
              "      --hover-bg-color: #434B5C;\n",
              "      --hover-fill-color: #FFFFFF;\n",
              "      --disabled-bg-color: #3B4455;\n",
              "      --disabled-fill-color: #666;\n",
              "  }\n",
              "\n",
              "  .colab-df-quickchart {\n",
              "    background-color: var(--bg-color);\n",
              "    border: none;\n",
              "    border-radius: 50%;\n",
              "    cursor: pointer;\n",
              "    display: none;\n",
              "    fill: var(--fill-color);\n",
              "    height: 32px;\n",
              "    padding: 0;\n",
              "    width: 32px;\n",
              "  }\n",
              "\n",
              "  .colab-df-quickchart:hover {\n",
              "    background-color: var(--hover-bg-color);\n",
              "    box-shadow: 0 1px 2px rgba(60, 64, 67, 0.3), 0 1px 3px 1px rgba(60, 64, 67, 0.15);\n",
              "    fill: var(--button-hover-fill-color);\n",
              "  }\n",
              "\n",
              "  .colab-df-quickchart-complete:disabled,\n",
              "  .colab-df-quickchart-complete:disabled:hover {\n",
              "    background-color: var(--disabled-bg-color);\n",
              "    fill: var(--disabled-fill-color);\n",
              "    box-shadow: none;\n",
              "  }\n",
              "\n",
              "  .colab-df-spinner {\n",
              "    border: 2px solid var(--fill-color);\n",
              "    border-color: transparent;\n",
              "    border-bottom-color: var(--fill-color);\n",
              "    animation:\n",
              "      spin 1s steps(1) infinite;\n",
              "  }\n",
              "\n",
              "  @keyframes spin {\n",
              "    0% {\n",
              "      border-color: transparent;\n",
              "      border-bottom-color: var(--fill-color);\n",
              "      border-left-color: var(--fill-color);\n",
              "    }\n",
              "    20% {\n",
              "      border-color: transparent;\n",
              "      border-left-color: var(--fill-color);\n",
              "      border-top-color: var(--fill-color);\n",
              "    }\n",
              "    30% {\n",
              "      border-color: transparent;\n",
              "      border-left-color: var(--fill-color);\n",
              "      border-top-color: var(--fill-color);\n",
              "      border-right-color: var(--fill-color);\n",
              "    }\n",
              "    40% {\n",
              "      border-color: transparent;\n",
              "      border-right-color: var(--fill-color);\n",
              "      border-top-color: var(--fill-color);\n",
              "    }\n",
              "    60% {\n",
              "      border-color: transparent;\n",
              "      border-right-color: var(--fill-color);\n",
              "    }\n",
              "    80% {\n",
              "      border-color: transparent;\n",
              "      border-right-color: var(--fill-color);\n",
              "      border-bottom-color: var(--fill-color);\n",
              "    }\n",
              "    90% {\n",
              "      border-color: transparent;\n",
              "      border-bottom-color: var(--fill-color);\n",
              "    }\n",
              "  }\n",
              "</style>\n",
              "\n",
              "  <script>\n",
              "    async function quickchart(key) {\n",
              "      const quickchartButtonEl =\n",
              "        document.querySelector('#' + key + ' button');\n",
              "      quickchartButtonEl.disabled = true;  // To prevent multiple clicks.\n",
              "      quickchartButtonEl.classList.add('colab-df-spinner');\n",
              "      try {\n",
              "        const charts = await google.colab.kernel.invokeFunction(\n",
              "            'suggestCharts', [key], {});\n",
              "      } catch (error) {\n",
              "        console.error('Error during call to suggestCharts:', error);\n",
              "      }\n",
              "      quickchartButtonEl.classList.remove('colab-df-spinner');\n",
              "      quickchartButtonEl.classList.add('colab-df-quickchart-complete');\n",
              "    }\n",
              "    (() => {\n",
              "      let quickchartButtonEl =\n",
              "        document.querySelector('#df-0ac06a54-14f1-49f6-b326-211e7aa1a9f1 button');\n",
              "      quickchartButtonEl.style.display =\n",
              "        google.colab.kernel.accessAllowed ? 'block' : 'none';\n",
              "    })();\n",
              "  </script>\n",
              "</div>\n",
              "    </div>\n",
              "  </div>\n"
            ]
          },
          "metadata": {},
          "execution_count": 14
        }
      ],
      "source": [
        "print(\"Cleaned Text:\\n\")\n",
        "df_cleaned = pd.DataFrame(cleaned_text)\n",
        "df_cleaned"
      ]
    },
    {
      "cell_type": "code",
      "execution_count": null,
      "metadata": {
        "id": "JrAt0f66E6f7"
      },
      "outputs": [],
      "source": [
        "import tensorflow as tf\n",
        "\n",
        "# Set random seed for reproducibility\n",
        "seed_value = 5\n",
        "np.random.seed(seed_value)\n",
        "tf.random.set_seed(seed_value)"
      ]
    },
    {
      "cell_type": "code",
      "execution_count": null,
      "metadata": {
        "id": "3dKIOFcsE6f7"
      },
      "outputs": [],
      "source": [
        "from keras.src.utils.np_utils import to_categorical\n",
        "### SPLIT INTO TRAIN/TEST ###\n",
        "\n",
        "y = to_categorical(df.Sentiment_Class.factorize()[0])\n",
        "\n",
        "X_train, X_test, y_train, y_test = train_test_split(df_cleaned.Review_Text.tolist(), y, random_state=seed_value, test_size=0.15)"
      ]
    },
    {
      "cell_type": "code",
      "execution_count": null,
      "metadata": {
        "colab": {
          "base_uri": "https://localhost:8080/"
        },
        "outputId": "a98e943f-dad9-4404-cd76-706134459aa2",
        "id": "UFcrA7YIE6f7"
      },
      "outputs": [
        {
          "output_type": "execute_result",
          "data": {
            "text/plain": [
              "{0: 'Not_relevant',\n",
              " 1: 'Positive',\n",
              " 2: 'Negative',\n",
              " 3: 'Neutral',\n",
              " 4: 'Mixed Feelings'}"
            ]
          },
          "metadata": {},
          "execution_count": 17
        }
      ],
      "source": [
        "### MAP LABEL ###\n",
        "\n",
        "diz_label = {}\n",
        "for i,label in enumerate(df.Sentiment_Class.factorize()[1]):\n",
        "    diz_label[i] = label\n",
        "\n",
        "diz_label"
      ]
    },
    {
      "cell_type": "code",
      "source": [
        "### TRANSFORM ORIGINAL TEXT INTO SEQUENCES AND COMPUTE PADDING ###\n",
        "\n",
        "max_len = 600\n",
        "\n",
        "tokenizer = Tokenizer(lower=True, split=' ')\n",
        "word_index = tokenizer.word_index\n",
        "tokenizer.fit_on_texts(X_train)\n",
        "sequences = tokenizer.texts_to_sequences(text)\n",
        "\n",
        "# Padding sequences\n",
        "padded_sequences = pad_sequences(sequences, maxlen=max_len)\n",
        "\n",
        "sequence_train = tokenizer.texts_to_sequences(X_train)\n",
        "sequence_train = pad_sequences(sequence_train, maxlen=max_len)\n",
        "\n",
        "sequence_test = tokenizer.texts_to_sequences(X_test)\n",
        "sequence_test = pad_sequences(sequence_test, maxlen=max_len)\n",
        "\n",
        "sequence_train = np.asarray(sequence_train)\n",
        "sequence_test = np.asarray(sequence_test)\n",
        "\n",
        "print(sequence_train.shape, sequence_test.shape)\n"
      ],
      "metadata": {
        "colab": {
          "base_uri": "https://localhost:8080/"
        },
        "id": "YP339fHqFPDx",
        "outputId": "e96e0ee6-63f4-4acb-c919-9ddaf67af46d"
      },
      "execution_count": null,
      "outputs": [
        {
          "output_type": "stream",
          "name": "stdout",
          "text": [
            "(3534, 600) (624, 600)\n"
          ]
        }
      ]
    },
    {
      "cell_type": "code",
      "source": [
        "### TRAIN WORD2VEC###\n",
        "\n",
        "w2v=Word2Vec(vector_size=100, window=5, min_count=5, seed=33)\n",
        "w2v.build_vocab([s.split( ) for s in X_train])\n",
        "w2v.train([s.split( ) for s in X_train], total_examples=w2v.corpus_count, epochs=10)"
      ],
      "metadata": {
        "colab": {
          "base_uri": "https://localhost:8080/"
        },
        "id": "nbTlbTuAe7-x",
        "outputId": "db0d9003-2d2c-4cf9-a384-6461e91172c2"
      },
      "execution_count": null,
      "outputs": [
        {
          "output_type": "execute_result",
          "data": {
            "text/plain": [
              "(322498, 542420)"
            ]
          },
          "metadata": {},
          "execution_count": 19
        }
      ]
    },
    {
      "cell_type": "code",
      "execution_count": null,
      "metadata": {
        "colab": {
          "base_uri": "https://localhost:8080/"
        },
        "outputId": "8d69508d-c915-4a57-984c-f00feae6403f",
        "id": "ci0Ql2C-E6f7"
      },
      "outputs": [
        {
          "output_type": "execute_result",
          "data": {
            "text/plain": [
              "(340150, 542420)"
            ]
          },
          "metadata": {},
          "execution_count": 20
        }
      ],
      "source": [
        "## TRAIN FASTTEXT ###\n",
        "ft = FastText(vector_size=100, window=5, min_count=4, seed=33)\n",
        "ft.build_vocab([s.split( ) for s in X_train])\n",
        "ft.train([s.split( ) for s in X_train], total_examples=ft.corpus_count, epochs=10)"
      ]
    },
    {
      "cell_type": "code",
      "source": [
        "### GET TRAINED WEIGHTS FOR EACH WORD FROM WORD2VEC ###\n",
        "\n",
        "embedding_matrix_w2v = np.random.random((len(tokenizer.word_index) + 1, 100))\n",
        "\n",
        "pas = 0\n",
        "for word,i in tokenizer.word_index.items():\n",
        "\n",
        "    try:\n",
        "        embedding_matrix_w2v[i] = w2v.wv[word]\n",
        "    except:\n",
        "        pas+=1\n",
        "\n",
        "print('not in vocabulary', pas)"
      ],
      "metadata": {
        "colab": {
          "base_uri": "https://localhost:8080/"
        },
        "id": "pFlw4YZqWsJu",
        "outputId": "24dd5b87-cd3a-46f1-af04-53d969c0946b"
      },
      "execution_count": null,
      "outputs": [
        {
          "output_type": "stream",
          "name": "stdout",
          "text": [
            "not in vocabulary 11421\n"
          ]
        }
      ]
    },
    {
      "cell_type": "code",
      "source": [
        "### GET TRAINED WEIGHTS FOR EACH WORD FROM FASTTEXT ###\n",
        "\n",
        "embedding_matrix_ft = np.random.random((len(tokenizer.word_index) + 1, 100))\n",
        "\n",
        "pas = 0\n",
        "for word,i in tokenizer.word_index.items():\n",
        "\n",
        "    try:\n",
        "        embedding_matrix_ft[i] = ft.wv[word]\n",
        "    except:\n",
        "        pas+=1\n",
        "\n",
        "print('not in vocabulary', pas)\n",
        "embedding_matrix_ft.shape"
      ],
      "metadata": {
        "colab": {
          "base_uri": "https://localhost:8080/"
        },
        "id": "24vd95B1FSXj",
        "outputId": "d0c411ca-0320-4c39-a39f-aa51ff52f8ad"
      },
      "execution_count": null,
      "outputs": [
        {
          "output_type": "stream",
          "name": "stdout",
          "text": [
            "not in vocabulary 0\n"
          ]
        },
        {
          "output_type": "execute_result",
          "data": {
            "text/plain": [
              "(13053, 100)"
            ]
          },
          "metadata": {},
          "execution_count": 30
        }
      ]
    },
    {
      "cell_type": "code",
      "source": [
        "### DEFINE INPUT LAYER FOR EMBEDDINGS READING AND CONCATENATION ###\n",
        "\n",
        "### DEFINE INPUT LAYER FOR EMBEDDINGS READING AND CONCATENATION ###\n",
        "\n",
        "def Concat_Emb(list_emb, maxlen):\n",
        "\n",
        "    inputs = []\n",
        "    output = []\n",
        "    for embedding in list_emb:\n",
        "\n",
        "        inp = Input(shape=(maxlen,))\n",
        "        emb = Embedding(len(tokenizer.word_index) + 1, 100, weights=[embedding], trainable=False)(inp)\n",
        "        emb = Reshape((-1,100,1))(emb)\n",
        "        inputs.append(inp)\n",
        "        output.append(emb)\n",
        "\n",
        "    concat = Concatenate(axis=-1)(output)\n",
        "\n",
        "    return Model(inputs, concat)"
      ],
      "metadata": {
        "id": "mQ_X-Y8PVT-f"
      },
      "execution_count": null,
      "outputs": []
    },
    {
      "cell_type": "code",
      "source": [
        "### TRY Concat_Emb ###\n",
        "read_emb = Concat_Emb([embedding_matrix_w2v, embedding_matrix_ft], maxlen=max_len)\n",
        "read_emb.summary()"
      ],
      "metadata": {
        "colab": {
          "base_uri": "https://localhost:8080/"
        },
        "id": "rcMFNnLtVke-",
        "outputId": "b0eec04d-8ba2-41eb-d54c-71d1c5bd0168"
      },
      "execution_count": null,
      "outputs": [
        {
          "output_type": "stream",
          "name": "stdout",
          "text": [
            "Model: \"model\"\n",
            "__________________________________________________________________________________________________\n",
            " Layer (type)                Output Shape                 Param #   Connected to                  \n",
            "==================================================================================================\n",
            " input_1 (InputLayer)        [(None, 600)]                0         []                            \n",
            "                                                                                                  \n",
            " input_2 (InputLayer)        [(None, 600)]                0         []                            \n",
            "                                                                                                  \n",
            " embedding (Embedding)       (None, 600, 100)             1305300   ['input_1[0][0]']             \n",
            "                                                                                                  \n",
            " embedding_1 (Embedding)     (None, 600, 100)             1305300   ['input_2[0][0]']             \n",
            "                                                                                                  \n",
            " reshape (Reshape)           (None, 600, 100, 1)          0         ['embedding[0][0]']           \n",
            "                                                                                                  \n",
            " reshape_1 (Reshape)         (None, 600, 100, 1)          0         ['embedding_1[0][0]']         \n",
            "                                                                                                  \n",
            " concatenate (Concatenate)   (None, 600, 100, 2)          0         ['reshape[0][0]',             \n",
            "                                                                     'reshape_1[0][0]']           \n",
            "                                                                                                  \n",
            "==================================================================================================\n",
            "Total params: 2610600 (9.96 MB)\n",
            "Trainable params: 0 (0.00 Byte)\n",
            "Non-trainable params: 2610600 (9.96 MB)\n",
            "__________________________________________________________________________________________________\n"
          ]
        }
      ]
    },
    {
      "cell_type": "code",
      "source": [
        "def inputlayer(maxlen, latent_dim=2):\n",
        "\n",
        "    inp = Input(shape=(maxlen, 100, 2))\n",
        "    x = Reshape((maxlen, -1))(inp)\n",
        "    x = Bidirectional(GRU(latent_dim, return_sequences=True))(x)\n",
        "    x = Lambda(lambda t: [t[:,:,:int(latent_dim/2+1)], t[:,:,int(latent_dim/2+1):]])(x)\n",
        "    x = Maximum()(x)\n",
        "    x = Activation('sigmoid')(x)\n",
        "    x = Reshape((maxlen, 1, 2))(x)\n",
        "    x = multiply([inp, x])\n",
        "    out = Lambda(lambda t: K.sum(t, axis=-1))(x)\n",
        "\n",
        "    return Model(inp, out)"
      ],
      "metadata": {
        "id": "fbSs2LCGVGKX"
      },
      "execution_count": null,
      "outputs": []
    },
    {
      "cell_type": "code",
      "source": [
        "# Model building\n",
        "### DEFINE NETWORK WITH DME ###\n",
        "\n",
        "concat_inp = Concat_Emb([embedding_matrix_w2v, embedding_matrix_ft], maxlen=max_len)\n",
        "modl =inputlayer(max_len)\n",
        "x = modl(concat_inp.output)\n",
        "x = Bidirectional(GRU(128, dropout=0.2, return_sequences=True))(x)\n",
        "x = Bidirectional(GRU(32, dropout=0.2))(x)\n",
        "out = Dense(y.shape[1], activation='softmax')(x)\n",
        "model = Model(concat_inp.input, out)\n",
        "model.compile(optimizer='adam', loss='categorical_crossentropy', metrics=['accuracy'])"
      ],
      "metadata": {
        "id": "8DRadazrFZRM"
      },
      "execution_count": null,
      "outputs": []
    },
    {
      "cell_type": "code",
      "source": [
        "model.summary()"
      ],
      "metadata": {
        "colab": {
          "base_uri": "https://localhost:8080/"
        },
        "id": "apKimsVvHgpN",
        "outputId": "c13da759-f472-4d9e-ccd7-ed8716fcee99"
      },
      "execution_count": null,
      "outputs": [
        {
          "output_type": "stream",
          "name": "stdout",
          "text": [
            "Model: \"model_6\"\n",
            "__________________________________________________________________________________________________\n",
            " Layer (type)                Output Shape                 Param #   Connected to                  \n",
            "==================================================================================================\n",
            " input_12 (InputLayer)       [(None, 600)]                0         []                            \n",
            "                                                                                                  \n",
            " input_13 (InputLayer)       [(None, 600)]                0         []                            \n",
            "                                                                                                  \n",
            " embedding_8 (Embedding)     (None, 600, 100)             1305300   ['input_12[0][0]']            \n",
            "                                                                                                  \n",
            " embedding_9 (Embedding)     (None, 600, 100)             1305300   ['input_13[0][0]']            \n",
            "                                                                                                  \n",
            " reshape_13 (Reshape)        (None, 600, 100, 1)          0         ['embedding_8[0][0]']         \n",
            "                                                                                                  \n",
            " reshape_14 (Reshape)        (None, 600, 100, 1)          0         ['embedding_9[0][0]']         \n",
            "                                                                                                  \n",
            " concatenate_4 (Concatenate  (None, 600, 100, 2)          0         ['reshape_13[0][0]',          \n",
            " )                                                                   'reshape_14[0][0]']          \n",
            "                                                                                                  \n",
            " model_5 (Functional)        (None, 600, 100)             2448      ['concatenate_4[0][0]']       \n",
            "                                                                                                  \n",
            " bidirectional_3 (Bidirecti  (None, 600, 256)             176640    ['model_5[0][0]']             \n",
            " onal)                                                                                            \n",
            "                                                                                                  \n",
            " bidirectional_4 (Bidirecti  (None, 64)                   55680     ['bidirectional_3[0][0]']     \n",
            " onal)                                                                                            \n",
            "                                                                                                  \n",
            " dense (Dense)               (None, 5)                    325       ['bidirectional_4[0][0]']     \n",
            "                                                                                                  \n",
            "==================================================================================================\n",
            "Total params: 2845693 (10.86 MB)\n",
            "Trainable params: 235093 (918.33 KB)\n",
            "Non-trainable params: 2610600 (9.96 MB)\n",
            "__________________________________________________________________________________________________\n"
          ]
        }
      ]
    },
    {
      "cell_type": "code",
      "source": [
        "# Model training\n",
        "history=model.fit([sequence_train]*2, y_train, batch_size=128, epochs=20, verbose=2, validation_split=0.1)\n"
      ],
      "metadata": {
        "colab": {
          "base_uri": "https://localhost:8080/"
        },
        "id": "lnz4cxDeUrfP",
        "outputId": "c97a5c0e-b3b3-400f-a312-7a1e64f30bac"
      },
      "execution_count": null,
      "outputs": [
        {
          "output_type": "stream",
          "name": "stdout",
          "text": [
            "Epoch 1/20\n",
            "25/25 - 20s - loss: 1.5315 - accuracy: 0.3358 - val_loss: 1.4434 - val_accuracy: 0.3870 - 20s/epoch - 800ms/step\n",
            "Epoch 2/20\n",
            "25/25 - 4s - loss: 1.4648 - accuracy: 0.3764 - val_loss: 1.4481 - val_accuracy: 0.3842 - 4s/epoch - 155ms/step\n",
            "Epoch 3/20\n",
            "25/25 - 4s - loss: 1.4316 - accuracy: 0.3940 - val_loss: 1.4080 - val_accuracy: 0.3870 - 4s/epoch - 163ms/step\n",
            "Epoch 4/20\n",
            "25/25 - 4s - loss: 1.4138 - accuracy: 0.3947 - val_loss: 1.3958 - val_accuracy: 0.4068 - 4s/epoch - 163ms/step\n",
            "Epoch 5/20\n",
            "25/25 - 5s - loss: 1.4053 - accuracy: 0.4060 - val_loss: 1.3872 - val_accuracy: 0.4266 - 5s/epoch - 205ms/step\n",
            "Epoch 6/20\n",
            "25/25 - 4s - loss: 1.3982 - accuracy: 0.4063 - val_loss: 1.3778 - val_accuracy: 0.4181 - 4s/epoch - 164ms/step\n",
            "Epoch 7/20\n",
            "25/25 - 4s - loss: 1.3678 - accuracy: 0.4333 - val_loss: 1.3943 - val_accuracy: 0.4011 - 4s/epoch - 161ms/step\n",
            "Epoch 8/20\n",
            "25/25 - 4s - loss: 1.3692 - accuracy: 0.4296 - val_loss: 1.3818 - val_accuracy: 0.4096 - 4s/epoch - 164ms/step\n",
            "Epoch 9/20\n",
            "25/25 - 4s - loss: 1.3611 - accuracy: 0.4277 - val_loss: 1.3743 - val_accuracy: 0.4266 - 4s/epoch - 165ms/step\n",
            "Epoch 10/20\n",
            "25/25 - 4s - loss: 1.3590 - accuracy: 0.4412 - val_loss: 1.3779 - val_accuracy: 0.4153 - 4s/epoch - 162ms/step\n",
            "Epoch 11/20\n",
            "25/25 - 4s - loss: 1.3448 - accuracy: 0.4330 - val_loss: 1.3856 - val_accuracy: 0.3842 - 4s/epoch - 162ms/step\n",
            "Epoch 12/20\n",
            "25/25 - 4s - loss: 1.3425 - accuracy: 0.4343 - val_loss: 1.3764 - val_accuracy: 0.4294 - 4s/epoch - 160ms/step\n",
            "Epoch 13/20\n",
            "25/25 - 4s - loss: 1.3318 - accuracy: 0.4456 - val_loss: 1.3662 - val_accuracy: 0.4096 - 4s/epoch - 166ms/step\n",
            "Epoch 14/20\n",
            "25/25 - 4s - loss: 1.3139 - accuracy: 0.4582 - val_loss: 1.3629 - val_accuracy: 0.4124 - 4s/epoch - 162ms/step\n",
            "Epoch 15/20\n",
            "25/25 - 4s - loss: 1.3128 - accuracy: 0.4569 - val_loss: 1.3736 - val_accuracy: 0.4068 - 4s/epoch - 159ms/step\n",
            "Epoch 16/20\n",
            "25/25 - 4s - loss: 1.3046 - accuracy: 0.4613 - val_loss: 1.3763 - val_accuracy: 0.4096 - 4s/epoch - 164ms/step\n",
            "Epoch 17/20\n",
            "25/25 - 4s - loss: 1.2937 - accuracy: 0.4761 - val_loss: 1.3849 - val_accuracy: 0.4153 - 4s/epoch - 163ms/step\n",
            "Epoch 18/20\n",
            "25/25 - 4s - loss: 1.2794 - accuracy: 0.4786 - val_loss: 1.3610 - val_accuracy: 0.4407 - 4s/epoch - 159ms/step\n",
            "Epoch 19/20\n",
            "25/25 - 4s - loss: 1.2828 - accuracy: 0.4695 - val_loss: 1.3979 - val_accuracy: 0.4153 - 4s/epoch - 158ms/step\n",
            "Epoch 20/20\n",
            "25/25 - 4s - loss: 1.2621 - accuracy: 0.4871 - val_loss: 1.3772 - val_accuracy: 0.4520 - 4s/epoch - 163ms/step\n"
          ]
        }
      ]
    },
    {
      "cell_type": "code",
      "execution_count": null,
      "metadata": {
        "colab": {
          "base_uri": "https://localhost:8080/"
        },
        "id": "rXK8rdGB6UW5",
        "outputId": "4f537921-8a9c-4d9e-d039-b00cf5ec3d35"
      },
      "outputs": [
        {
          "output_type": "stream",
          "name": "stdout",
          "text": [
            "20/20 [==============================] - 3s 46ms/step\n",
            "                precision    recall  f1-score   support\n",
            "\n",
            "Mixed Feelings       0.38      0.07      0.12        72\n",
            "      Negative       0.58      0.09      0.16       118\n",
            "       Neutral       0.42      0.56      0.48       147\n",
            "  Not_relevant       0.44      0.53      0.48       156\n",
            "      Positive       0.38      0.60      0.46       131\n",
            "\n",
            "      accuracy                           0.42       624\n",
            "     macro avg       0.44      0.37      0.34       624\n",
            "  weighted avg       0.44      0.42      0.38       624\n",
            "\n"
          ]
        }
      ],
      "source": [
        "print(classification_report([diz_label[i] for i in np.argmax(y_test, axis=1)],\n",
        "                            [diz_label[i] for i in np.argmax(model.predict([sequence_test]*2), axis=1)]))"
      ]
    },
    {
      "cell_type": "code",
      "source": [
        "def plot_graphs(history, string):\n",
        "  plt.plot(history.history[string])\n",
        "  plt.plot(history.history['val_'+string])\n",
        "  plt.xlabel(\"Epochs\")\n",
        "  plt.ylabel(string)\n",
        "  plt.legend([string, 'val_'+string])\n",
        "  plt.show()"
      ],
      "metadata": {
        "id": "F6WRoXjOhGtg"
      },
      "execution_count": null,
      "outputs": []
    },
    {
      "cell_type": "code",
      "execution_count": null,
      "metadata": {
        "colab": {
          "base_uri": "https://localhost:8080/",
          "height": 881
        },
        "id": "M_fazh9vWcXL",
        "outputId": "bcd64b57-c2db-42df-9ce3-2ba0e8689247"
      },
      "outputs": [
        {
          "output_type": "display_data",
          "data": {
            "text/plain": [
              "<Figure size 640x480 with 1 Axes>"
            ],
            "image/png": "[encoded data removed]"
          },
          "metadata": {}
        },
        {
          "output_type": "display_data",
          "data": {
            "text/plain": [
              "<Figure size 640x480 with 1 Axes>"
            ],
            "image/png": "[encoded data removed]"
          },
          "metadata": {}
        }
      ],
      "source": [
        "plot_graphs(history, \"accuracy\")\n",
        "plot_graphs(history, \"loss\")"
      ]
    }
  ]
}