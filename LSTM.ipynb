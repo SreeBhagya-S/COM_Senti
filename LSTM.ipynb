{
  "nbformat": 4,
  "nbformat_minor": 0,
  "metadata": {
    "colab": {
      "provenance": [],
      "gpuType": "T4",
      "authorship_tag": "ABX9TyP+/rVySDFDDNeyF74Uk/fo",
      "include_colab_link": true
    },
    "kernelspec": {
      "name": "python3",
      "display_name": "Python 3"
    },
    "language_info": {
      "name": "python"
    },
    "accelerator": "GPU"
  },
  "cells": [
    {
      "cell_type": "markdown",
      "metadata": {
        "id": "view-in-github",
        "colab_type": "text"
      },
      "source": [
        "<a href=\"https://colab.research.google.com/github/SreeBhagya-S/COM_Senti/blob/main/LSTM.ipynb\" target=\"_parent\"><img src=\"https://colab.research.google.com/assets/colab-badge.svg\" alt=\"Open In Colab\"/></a>"
      ]
    },
    {
      "cell_type": "code",
      "execution_count": null,
      "metadata": {
        "colab": {
          "base_uri": "https://localhost:8080/"
        },
        "id": "qq_cUiNW8WFf",
        "outputId": "cd88eae7-403b-49ce-eba9-b5b1369030ab"
      },
      "outputs": [
        {
          "output_type": "stream",
          "name": "stdout",
          "text": [
            "Mounted at /content/drive\n"
          ]
        }
      ],
      "source": [
        "from google.colab import drive\n",
        "drive.mount('/content/drive')"
      ]
    },
    {
      "cell_type": "code",
      "execution_count": null,
      "metadata": {
        "colab": {
          "base_uri": "https://localhost:8080/"
        },
        "id": "j4DtTuTm3IyV",
        "outputId": "80b45369-029c-4c72-f7d1-0467aed0baa6"
      },
      "outputs": [
        {
          "output_type": "stream",
          "name": "stdout",
          "text": [
            "Collecting np_utils\n",
            "  Downloading np_utils-0.6.0.tar.gz (61 kB)\n",
            "\u001b[2K     \u001b[90m━━━━━━━━━━━━━━━━━━━━━━━━━━━━━━━━━━━━━━━━\u001b[0m \u001b[32m62.0/62.0 kB\u001b[0m \u001b[31m278.5 kB/s\u001b[0m eta \u001b[36m0:00:00\u001b[0m\n",
            "\u001b[?25h  Preparing metadata (setup.py) ... \u001b[?25l\u001b[?25hdone\n",
            "Requirement already satisfied: numpy>=1.0 in /usr/local/lib/python3.10/dist-packages (from np_utils) (1.23.5)\n",
            "Building wheels for collected packages: np_utils\n",
            "  Building wheel for np_utils (setup.py) ... \u001b[?25l\u001b[?25hdone\n",
            "  Created wheel for np_utils: filename=np_utils-0.6.0-py3-none-any.whl size=56439 sha256=a3eaf5348aea672ff70dd55dea0676900ee074d429a98c3fdcc588e87f03fd39\n",
            "  Stored in directory: /root/.cache/pip/wheels/b6/c7/50/2307607f44366dd021209f660045f8d51cb976514d30be7cc7\n",
            "Successfully built np_utils\n",
            "Installing collected packages: np_utils\n",
            "Successfully installed np_utils-0.6.0\n"
          ]
        }
      ],
      "source": [
        "!pip install np_utils"
      ]
    },
    {
      "cell_type": "code",
      "execution_count": null,
      "metadata": {
        "id": "t78h33pQ271h"
      },
      "outputs": [],
      "source": [
        "import numpy as np\n",
        "import pandas as pd\n",
        "import matplotlib.pyplot as plt\n",
        "import itertools\n",
        "import string\n",
        "from tqdm import tqdm_notebook as tqdm\n",
        "\n",
        "from gensim.models import *\n",
        "\n",
        "from keras.preprocessing.text import Tokenizer\n",
        "from keras.preprocessing.sequence import pad_sequences\n",
        "from keras.layers import *\n",
        "from keras.models import *\n",
        "import keras.backend as K\n",
        "import np_utils\n",
        "\n",
        "from sklearn.model_selection import train_test_split\n",
        "from sklearn.metrics import classification_report, confusion_matrix\n",
        "\n",
        "import os\n",
        "os.environ[\"CUDA_DEVICE_ORDER\"]=\"PCI_BUS_ID\"\n",
        "os.environ[\"CUDA_VISIBLE_DEVICES\"]=\"0\""
      ]
    },
    {
      "cell_type": "code",
      "execution_count": null,
      "metadata": {
        "id": "HR8MOvly3gMp"
      },
      "outputs": [],
      "source": [
        "def plot_confusion_matrix(cm, classes, title='Confusion matrix', cmap=plt.cm.Blues):\n",
        "\n",
        "    cm = cm.astype('float') / cm.sum(axis=1)[:, np.newaxis]\n",
        "\n",
        "    plt.imshow(cm, interpolation='nearest', cmap=cmap)\n",
        "    plt.title(title, fontsize=25)\n",
        "    #plt.colorbar()\n",
        "    tick_marks = np.arange(len(classes))\n",
        "    plt.xticks(tick_marks, classes, rotation=90, fontsize=15)\n",
        "    plt.yticks(tick_marks, classes, fontsize=15)\n",
        "\n",
        "    fmt = '.2f'\n",
        "    thresh = cm.max() / 2.\n",
        "    for i, j in itertools.product(range(cm.shape[0]), range(cm.shape[1])):\n",
        "        plt.text(j, i, format(cm[i, j], fmt),\n",
        "                 horizontalalignment=\"center\",\n",
        "                 color=\"white\" if cm[i, j] > thresh else \"black\", fontsize = 14)\n",
        "\n",
        "    plt.ylabel('True label', fontsize=20)\n",
        "    plt.xlabel('Predicted label', fontsize=20)"
      ]
    },
    {
      "cell_type": "code",
      "execution_count": null,
      "metadata": {
        "colab": {
          "base_uri": "https://localhost:8080/",
          "height": 442
        },
        "id": "FbIU5nNCKN1H",
        "outputId": "aebf7026-b05e-4ec9-e715-5d5abad4d49c"
      },
      "outputs": [
        {
          "output_type": "stream",
          "name": "stdout",
          "text": [
            "(4158, 2)\n"
          ]
        },
        {
          "output_type": "execute_result",
          "data": {
            "text/plain": [
              "                                            Review_Text Sentiment_Class\n",
              "0          Bro njn 13 pro edukkan noknond suggestions??    Not_relevant\n",
              "1                            Tech inte ambassador 🤘😉🔥🔥🔥        Positive\n",
              "2                                         Ivan aradey 😳        Negative\n",
              "3                Bro 13 pro 256 gb green available anno         Neutral\n",
              "4                      samsung company ethra tharunundh         Neutral\n",
              "...                                                 ...             ...\n",
              "4153   എന്നാൽ നിനക്ക് rs 5000 രൂപ സമ്മാനം relieved face    Not_relevant\n",
              "4154  സുഹുർത്തെ tesla pi ഫോൺ ഇറങ്ങിയതോടെ apple i pho...  Mixed Feelings\n",
              "4155  real me 10 pro vs redmi note 12 pro വീഡിയോ ചെയ...    Not_relevant\n",
              "4156  ഇതിന്റെ google dailer and messaging app miui ട...         Neutral\n",
              "4157  എവിടെ backgroundil golden playbutton എവിടെ eye...    Not_relevant\n",
              "\n",
              "[4158 rows x 2 columns]"
            ],
            "text/html": [
              "\n",
              "  <div id=\"df-90cfa765-342e-49a0-99aa-9c98031bfd5c\" class=\"colab-df-container\">\n",
              "    <div>\n",
              "<style scoped>\n",
              "    .dataframe tbody tr th:only-of-type {\n",
              "        vertical-align: middle;\n",
              "    }\n",
              "\n",
              "    .dataframe tbody tr th {\n",
              "        vertical-align: top;\n",
              "    }\n",
              "\n",
              "    .dataframe thead th {\n",
              "        text-align: right;\n",
              "    }\n",
              "</style>\n",
              "<table border=\"1\" class=\"dataframe\">\n",
              "  <thead>\n",
              "    <tr style=\"text-align: right;\">\n",
              "      <th></th>\n",
              "      <th>Review_Text</th>\n",
              "      <th>Sentiment_Class</th>\n",
              "    </tr>\n",
              "  </thead>\n",
              "  <tbody>\n",
              "    <tr>\n",
              "      <th>0</th>\n",
              "      <td>Bro njn 13 pro edukkan noknond suggestions??</td>\n",
              "      <td>Not_relevant</td>\n",
              "    </tr>\n",
              "    <tr>\n",
              "      <th>1</th>\n",
              "      <td>Tech inte ambassador 🤘😉🔥🔥🔥</td>\n",
              "      <td>Positive</td>\n",
              "    </tr>\n",
              "    <tr>\n",
              "      <th>2</th>\n",
              "      <td>Ivan aradey 😳</td>\n",
              "      <td>Negative</td>\n",
              "    </tr>\n",
              "    <tr>\n",
              "      <th>3</th>\n",
              "      <td>Bro 13 pro 256 gb green available anno</td>\n",
              "      <td>Neutral</td>\n",
              "    </tr>\n",
              "    <tr>\n",
              "      <th>4</th>\n",
              "      <td>samsung company ethra tharunundh</td>\n",
              "      <td>Neutral</td>\n",
              "    </tr>\n",
              "    <tr>\n",
              "      <th>...</th>\n",
              "      <td>...</td>\n",
              "      <td>...</td>\n",
              "    </tr>\n",
              "    <tr>\n",
              "      <th>4153</th>\n",
              "      <td>എന്നാൽ നിനക്ക് rs 5000 രൂപ സമ്മാനം relieved face</td>\n",
              "      <td>Not_relevant</td>\n",
              "    </tr>\n",
              "    <tr>\n",
              "      <th>4154</th>\n",
              "      <td>സുഹുർത്തെ tesla pi ഫോൺ ഇറങ്ങിയതോടെ apple i pho...</td>\n",
              "      <td>Mixed Feelings</td>\n",
              "    </tr>\n",
              "    <tr>\n",
              "      <th>4155</th>\n",
              "      <td>real me 10 pro vs redmi note 12 pro വീഡിയോ ചെയ...</td>\n",
              "      <td>Not_relevant</td>\n",
              "    </tr>\n",
              "    <tr>\n",
              "      <th>4156</th>\n",
              "      <td>ഇതിന്റെ google dailer and messaging app miui ട...</td>\n",
              "      <td>Neutral</td>\n",
              "    </tr>\n",
              "    <tr>\n",
              "      <th>4157</th>\n",
              "      <td>എവിടെ backgroundil golden playbutton എവിടെ eye...</td>\n",
              "      <td>Not_relevant</td>\n",
              "    </tr>\n",
              "  </tbody>\n",
              "</table>\n",
              "<p>4158 rows × 2 columns</p>\n",
              "</div>\n",
              "    <div class=\"colab-df-buttons\">\n",
              "\n",
              "  <div class=\"colab-df-container\">\n",
              "    <button class=\"colab-df-convert\" onclick=\"convertToInteractive('df-90cfa765-342e-49a0-99aa-9c98031bfd5c')\"\n",
              "            title=\"Convert this dataframe to an interactive table.\"\n",
              "            style=\"display:none;\">\n",
              "\n",
              "  <svg xmlns=\"http://www.w3.org/2000/svg\" height=\"24px\" viewBox=\"0 -960 960 960\">\n",
              "    <path d=\"M120-120v-720h720v720H120Zm60-500h600v-160H180v160Zm220 220h160v-160H400v160Zm0 220h160v-160H400v160ZM180-400h160v-160H180v160Zm440 0h160v-160H620v160ZM180-180h160v-160H180v160Zm440 0h160v-160H620v160Z\"/>\n",
              "  </svg>\n",
              "    </button>\n",
              "\n",
              "  <style>\n",
              "    .colab-df-container {\n",
              "      display:flex;\n",
              "      gap: 12px;\n",
              "    }\n",
              "\n",
              "    .colab-df-convert {\n",
              "      background-color: #E8F0FE;\n",
              "      border: none;\n",
              "      border-radius: 50%;\n",
              "      cursor: pointer;\n",
              "      display: none;\n",
              "      fill: #1967D2;\n",
              "      height: 32px;\n",
              "      padding: 0 0 0 0;\n",
              "      width: 32px;\n",
              "    }\n",
              "\n",
              "    .colab-df-convert:hover {\n",
              "      background-color: #E2EBFA;\n",
              "      box-shadow: 0px 1px 2px rgba(60, 64, 67, 0.3), 0px 1px 3px 1px rgba(60, 64, 67, 0.15);\n",
              "      fill: #174EA6;\n",
              "    }\n",
              "\n",
              "    .colab-df-buttons div {\n",
              "      margin-bottom: 4px;\n",
              "    }\n",
              "\n",
              "    [theme=dark] .colab-df-convert {\n",
              "      background-color: #3B4455;\n",
              "      fill: #D2E3FC;\n",
              "    }\n",
              "\n",
              "    [theme=dark] .colab-df-convert:hover {\n",
              "      background-color: #434B5C;\n",
              "      box-shadow: 0px 1px 3px 1px rgba(0, 0, 0, 0.15);\n",
              "      filter: drop-shadow(0px 1px 2px rgba(0, 0, 0, 0.3));\n",
              "      fill: #FFFFFF;\n",
              "    }\n",
              "  </style>\n",
              "\n",
              "    <script>\n",
              "      const buttonEl =\n",
              "        document.querySelector('#df-90cfa765-342e-49a0-99aa-9c98031bfd5c button.colab-df-convert');\n",
              "      buttonEl.style.display =\n",
              "        google.colab.kernel.accessAllowed ? 'block' : 'none';\n",
              "\n",
              "      async function convertToInteractive(key) {\n",
              "        const element = document.querySelector('#df-90cfa765-342e-49a0-99aa-9c98031bfd5c');\n",
              "        const dataTable =\n",
              "          await google.colab.kernel.invokeFunction('convertToInteractive',\n",
              "                                                    [key], {});\n",
              "        if (!dataTable) return;\n",
              "\n",
              "        const docLinkHtml = 'Like what you see? Visit the ' +\n",
              "          '<a target=\"_blank\" href=https://colab.research.google.com/notebooks/data_table.ipynb>data table notebook</a>'\n",
              "          + ' to learn more about interactive tables.';\n",
              "        element.innerHTML = '';\n",
              "        dataTable['output_type'] = 'display_data';\n",
              "        await google.colab.output.renderOutput(dataTable, element);\n",
              "        const docLink = document.createElement('div');\n",
              "        docLink.innerHTML = docLinkHtml;\n",
              "        element.appendChild(docLink);\n",
              "      }\n",
              "    </script>\n",
              "  </div>\n",
              "\n",
              "\n",
              "<div id=\"df-fbc3b1ed-bb57-44d3-9b7a-3ac73bc4ec9f\">\n",
              "  <button class=\"colab-df-quickchart\" onclick=\"quickchart('df-fbc3b1ed-bb57-44d3-9b7a-3ac73bc4ec9f')\"\n",
              "            title=\"Suggest charts\"\n",
              "            style=\"display:none;\">\n",
              "\n",
              "<svg xmlns=\"http://www.w3.org/2000/svg\" height=\"24px\"viewBox=\"0 0 24 24\"\n",
              "     width=\"24px\">\n",
              "    <g>\n",
              "        <path d=\"M19 3H5c-1.1 0-2 .9-2 2v14c0 1.1.9 2 2 2h14c1.1 0 2-.9 2-2V5c0-1.1-.9-2-2-2zM9 17H7v-7h2v7zm4 0h-2V7h2v10zm4 0h-2v-4h2v4z\"/>\n",
              "    </g>\n",
              "</svg>\n",
              "  </button>\n",
              "\n",
              "<style>\n",
              "  .colab-df-quickchart {\n",
              "      --bg-color: #E8F0FE;\n",
              "      --fill-color: #1967D2;\n",
              "      --hover-bg-color: #E2EBFA;\n",
              "      --hover-fill-color: #174EA6;\n",
              "      --disabled-fill-color: #AAA;\n",
              "      --disabled-bg-color: #DDD;\n",
              "  }\n",
              "\n",
              "  [theme=dark] .colab-df-quickchart {\n",
              "      --bg-color: #3B4455;\n",
              "      --fill-color: #D2E3FC;\n",
              "      --hover-bg-color: #434B5C;\n",
              "      --hover-fill-color: #FFFFFF;\n",
              "      --disabled-bg-color: #3B4455;\n",
              "      --disabled-fill-color: #666;\n",
              "  }\n",
              "\n",
              "  .colab-df-quickchart {\n",
              "    background-color: var(--bg-color);\n",
              "    border: none;\n",
              "    border-radius: 50%;\n",
              "    cursor: pointer;\n",
              "    display: none;\n",
              "    fill: var(--fill-color);\n",
              "    height: 32px;\n",
              "    padding: 0;\n",
              "    width: 32px;\n",
              "  }\n",
              "\n",
              "  .colab-df-quickchart:hover {\n",
              "    background-color: var(--hover-bg-color);\n",
              "    box-shadow: 0 1px 2px rgba(60, 64, 67, 0.3), 0 1px 3px 1px rgba(60, 64, 67, 0.15);\n",
              "    fill: var(--button-hover-fill-color);\n",
              "  }\n",
              "\n",
              "  .colab-df-quickchart-complete:disabled,\n",
              "  .colab-df-quickchart-complete:disabled:hover {\n",
              "    background-color: var(--disabled-bg-color);\n",
              "    fill: var(--disabled-fill-color);\n",
              "    box-shadow: none;\n",
              "  }\n",
              "\n",
              "  .colab-df-spinner {\n",
              "    border: 2px solid var(--fill-color);\n",
              "    border-color: transparent;\n",
              "    border-bottom-color: var(--fill-color);\n",
              "    animation:\n",
              "      spin 1s steps(1) infinite;\n",
              "  }\n",
              "\n",
              "  @keyframes spin {\n",
              "    0% {\n",
              "      border-color: transparent;\n",
              "      border-bottom-color: var(--fill-color);\n",
              "      border-left-color: var(--fill-color);\n",
              "    }\n",
              "    20% {\n",
              "      border-color: transparent;\n",
              "      border-left-color: var(--fill-color);\n",
              "      border-top-color: var(--fill-color);\n",
              "    }\n",
              "    30% {\n",
              "      border-color: transparent;\n",
              "      border-left-color: var(--fill-color);\n",
              "      border-top-color: var(--fill-color);\n",
              "      border-right-color: var(--fill-color);\n",
              "    }\n",
              "    40% {\n",
              "      border-color: transparent;\n",
              "      border-right-color: var(--fill-color);\n",
              "      border-top-color: var(--fill-color);\n",
              "    }\n",
              "    60% {\n",
              "      border-color: transparent;\n",
              "      border-right-color: var(--fill-color);\n",
              "    }\n",
              "    80% {\n",
              "      border-color: transparent;\n",
              "      border-right-color: var(--fill-color);\n",
              "      border-bottom-color: var(--fill-color);\n",
              "    }\n",
              "    90% {\n",
              "      border-color: transparent;\n",
              "      border-bottom-color: var(--fill-color);\n",
              "    }\n",
              "  }\n",
              "</style>\n",
              "\n",
              "  <script>\n",
              "    async function quickchart(key) {\n",
              "      const quickchartButtonEl =\n",
              "        document.querySelector('#' + key + ' button');\n",
              "      quickchartButtonEl.disabled = true;  // To prevent multiple clicks.\n",
              "      quickchartButtonEl.classList.add('colab-df-spinner');\n",
              "      try {\n",
              "        const charts = await google.colab.kernel.invokeFunction(\n",
              "            'suggestCharts', [key], {});\n",
              "      } catch (error) {\n",
              "        console.error('Error during call to suggestCharts:', error);\n",
              "      }\n",
              "      quickchartButtonEl.classList.remove('colab-df-spinner');\n",
              "      quickchartButtonEl.classList.add('colab-df-quickchart-complete');\n",
              "    }\n",
              "    (() => {\n",
              "      let quickchartButtonEl =\n",
              "        document.querySelector('#df-fbc3b1ed-bb57-44d3-9b7a-3ac73bc4ec9f button');\n",
              "      quickchartButtonEl.style.display =\n",
              "        google.colab.kernel.accessAllowed ? 'block' : 'none';\n",
              "    })();\n",
              "  </script>\n",
              "</div>\n",
              "    </div>\n",
              "  </div>\n"
            ]
          },
          "metadata": {},
          "execution_count": 5
        }
      ],
      "source": [
        "### READ DATA ###\n",
        "df=pd.read_csv('/content/drive/MyDrive/com_reviews_MP.csv',  sep=',')\n",
        "column_to_drop = 'Unnamed: 0'\n",
        "df = df.drop(column_to_drop, axis=1)\n",
        "print(df.shape)\n",
        "df"
      ]
    },
    {
      "cell_type": "code",
      "execution_count": null,
      "metadata": {
        "id": "0cSB908Dz854"
      },
      "outputs": [],
      "source": [
        "text=df['Review_Text']\n",
        "labels=df['Sentiment_Class']"
      ]
    },
    {
      "cell_type": "code",
      "execution_count": null,
      "metadata": {
        "colab": {
          "base_uri": "https://localhost:8080/"
        },
        "outputId": "eb08c6e0-e4d6-4399-9d55-f55728e39550",
        "id": "MNuRfeYPE6f5"
      },
      "outputs": [
        {
          "output_type": "stream",
          "name": "stderr",
          "text": [
            "[nltk_data] Downloading package punkt to /root/nltk_data...\n",
            "[nltk_data]   Unzipping tokenizers/punkt.zip.\n",
            "[nltk_data] Downloading package stopwords to /root/nltk_data...\n",
            "[nltk_data]   Unzipping corpora/stopwords.zip.\n",
            "[nltk_data] Downloading package wordnet to /root/nltk_data...\n"
          ]
        }
      ],
      "source": [
        "import re\n",
        "import nltk\n",
        "nltk.download('punkt')\n",
        "nltk.download('stopwords')\n",
        "nltk.download('wordnet')\n",
        "from nltk.corpus import stopwords\n",
        "from nltk.tokenize import word_tokenize"
      ]
    },
    {
      "cell_type": "code",
      "execution_count": null,
      "metadata": {
        "id": "CDx5FJplE6f5"
      },
      "outputs": [],
      "source": [
        "from tqdm import tqdm\n",
        "tqdm.pandas()\n",
        "from nltk.stem.lancaster import LancasterStemmer\n",
        "lancaster_stemmer = LancasterStemmer()\n",
        "from nltk.stem import WordNetLemmatizer\n",
        "wordnet_lemmatizer = WordNetLemmatizer()\n",
        "\n",
        "from sklearn.feature_extraction.text import TfidfVectorizer\n"
      ]
    },
    {
      "cell_type": "code",
      "execution_count": null,
      "metadata": {
        "colab": {
          "base_uri": "https://localhost:8080/"
        },
        "id": "gJrY_UoVq81h",
        "outputId": "2b2ea00d-f17c-4b57-d474-23e9b6ce90d4"
      },
      "outputs": [
        {
          "output_type": "execute_result",
          "data": {
            "text/plain": [
              "0            Bro njn 13 pro edukkan noknond suggestions??\n",
              "1                              Tech inte ambassador 🤘😉🔥🔥🔥\n",
              "2                                           Ivan aradey 😳\n",
              "3                  Bro 13 pro 256 gb green available anno\n",
              "4                        samsung company ethra tharunundh\n",
              "                              ...                        \n",
              "4153     എന്നാൽ നിനക്ക് rs 5000 രൂപ സമ്മാനം relieved face\n",
              "4154    സുഹുർത്തെ tesla pi ഫോൺ ഇറങ്ങിയതോടെ apple i pho...\n",
              "4155    real me 10 pro vs redmi note 12 pro വീഡിയോ ചെയ...\n",
              "4156    ഇതിന്റെ google dailer and messaging app miui ട...\n",
              "4157    എവിടെ backgroundil golden playbutton എവിടെ eye...\n",
              "Name: Review_Text, Length: 4158, dtype: object"
            ]
          },
          "metadata": {},
          "execution_count": 9
        }
      ],
      "source": [
        "import copy\n",
        "clean_texts=copy.deepcopy(text)\n",
        "clean_texts"
      ]
    },
    {
      "cell_type": "code",
      "execution_count": null,
      "metadata": {
        "colab": {
          "base_uri": "https://localhost:8080/"
        },
        "outputId": "dff7e72f-0557-4280-f9f3-64051ec9a40f",
        "id": "TKgNLNnJE6f6"
      },
      "outputs": [
        {
          "output_type": "stream",
          "name": "stdout",
          "text": [
            "Collecting emoji\n",
            "  Downloading emoji-2.9.0-py2.py3-none-any.whl (397 kB)\n",
            "\u001b[2K     \u001b[90m━━━━━━━━━━━━━━━━━━━━━━━━━━━━━━━━━━━━━━━━\u001b[0m \u001b[32m397.5/397.5 kB\u001b[0m \u001b[31m3.0 MB/s\u001b[0m eta \u001b[36m0:00:00\u001b[0m\n",
            "\u001b[?25hInstalling collected packages: emoji\n",
            "Successfully installed emoji-2.9.0\n"
          ]
        }
      ],
      "source": [
        "!pip install emoji"
      ]
    },
    {
      "cell_type": "code",
      "execution_count": null,
      "metadata": {
        "id": "CoA8V5yzE6f6"
      },
      "outputs": [],
      "source": [
        "import emoji\n",
        "text1 = \"game is on 🔥 🔥\"\n",
        "txt=emoji.demojize(text1, delimiters=(\"\", \"\"))  # 'game is on fire fire'\n",
        "# txt=':'+txt\n",
        "# txt\n"
      ]
    },
    {
      "cell_type": "code",
      "execution_count": null,
      "metadata": {
        "colab": {
          "base_uri": "https://localhost:8080/"
        },
        "id": "NHyYrhGRcRfq",
        "outputId": "bbdd200a-6954-4998-edae-cb47b10cb42c"
      },
      "outputs": [
        {
          "output_type": "stream",
          "name": "stderr",
          "text": [
            "100%|██████████| 4158/4158 [00:01<00:00, 2475.30it/s]\n"
          ]
        },
        {
          "output_type": "execute_result",
          "data": {
            "text/plain": [
              "0            Bro njn 13 pro edukkan noknond suggestions??\n",
              "1       Tech inte ambassador :sign_of_the_horns::winki...\n",
              "2                              Ivan aradey :flushed_face:\n",
              "3                  Bro 13 pro 256 gb green available anno\n",
              "4                        samsung company ethra tharunundh\n",
              "                              ...                        \n",
              "4153     എന്നാൽ നിനക്ക് rs 5000 രൂപ സമ്മാനം relieved face\n",
              "4154    സുഹുർത്തെ tesla pi ഫോൺ ഇറങ്ങിയതോടെ apple i pho...\n",
              "4155    real me 10 pro vs redmi note 12 pro വീഡിയോ ചെയ...\n",
              "4156    ഇതിന്റെ google dailer and messaging app miui ട...\n",
              "4157    എവിടെ backgroundil golden playbutton എവിടെ eye...\n",
              "Name: Review_Text, Length: 4158, dtype: object"
            ]
          },
          "metadata": {},
          "execution_count": 12
        }
      ],
      "source": [
        "def emoji_text(text):\n",
        "    # conv_text = \"\"\n",
        "    conv_text = emoji.demojize(text)\n",
        "    return conv_text\n",
        "\n",
        "clean_texts= text.progress_apply(emoji_text)\n",
        "clean_texts"
      ]
    },
    {
      "cell_type": "code",
      "execution_count": null,
      "metadata": {
        "colab": {
          "base_uri": "https://localhost:8080/"
        },
        "outputId": "9b88b947-4a02-4c12-bec9-5ba232d8966f",
        "id": "M4L2oumGE6f6"
      },
      "outputs": [
        {
          "output_type": "stream",
          "name": "stderr",
          "text": [
            "100%|██████████| 4158/4158 [00:01<00:00, 3061.13it/s]\n"
          ]
        }
      ],
      "source": [
        "# Define a function to clean the code-mixed text while preserving the order\n",
        "def clean_code_mixed_text(text):\n",
        "    cleaned_text = \"\"\n",
        "    current_language = None\n",
        "    current_segment = \"\"\n",
        "\n",
        "    # Iterate through each character in the input text\n",
        "    for char in text:\n",
        "        if re.match(r'[a-zA-Z]', char):\n",
        "            if current_language == 'en' or current_language is None:\n",
        "                current_segment += char\n",
        "                current_language = 'en'\n",
        "            else:\n",
        "                cleaned_text += current_segment + ' '\n",
        "                current_segment = char\n",
        "                current_language = 'en'\n",
        "        elif re.match(r'[ം-ൿ]', char):\n",
        "            if current_language == 'ml' or current_language is None:\n",
        "                current_segment += char\n",
        "                current_language = 'ml'\n",
        "            else:\n",
        "                cleaned_text += current_segment + ' '\n",
        "                current_segment = char\n",
        "                current_language = 'ml'\n",
        "        else:\n",
        "            if current_segment:\n",
        "                cleaned_text += current_segment + ' '\n",
        "            current_segment = \"\"\n",
        "            current_language = None\n",
        "\n",
        "    # Add the last segment\n",
        "    if current_segment:\n",
        "        cleaned_text += current_segment\n",
        "\n",
        "    return cleaned_text.strip()\n",
        "\n",
        "cleaned_text = clean_texts.progress_apply(clean_code_mixed_text)\n",
        "cleaned_text = cleaned_text.str.lower()"
      ]
    },
    {
      "cell_type": "code",
      "execution_count": null,
      "metadata": {
        "colab": {
          "base_uri": "https://localhost:8080/",
          "height": 460
        },
        "outputId": "94e4506c-ac25-4579-eb3e-23a5ab1e1093",
        "id": "NwYCXJaaE6f6"
      },
      "outputs": [
        {
          "output_type": "stream",
          "name": "stdout",
          "text": [
            "Cleaned Text:\n",
            "\n"
          ]
        },
        {
          "output_type": "execute_result",
          "data": {
            "text/plain": [
              "                                            Review_Text\n",
              "0               bro njn pro edukkan noknond suggestions\n",
              "1     tech inte ambassador sign of the horns winking...\n",
              "2                              ivan aradey flushed face\n",
              "3                       bro pro gb green available anno\n",
              "4                      samsung company ethra tharunundh\n",
              "...                                                 ...\n",
              "4153        എന്നാൽ നിനക്ക് rs രൂപ സമ്മാനം relieved face\n",
              "4154  സുഹുർത്തെ tesla pi ഫോൺ ഇറങ്ങിയതോടെ apple i pho...\n",
              "4155  real me pro vs redmi note pro വീഡിയോ ചെയ്യണേ ബ...\n",
              "4156  ഇതിന്റെ google dailer and messaging app miui ട...\n",
              "4157  എവിടെ backgroundil golden playbutton എവിടെ eye...\n",
              "\n",
              "[4158 rows x 1 columns]"
            ],
            "text/html": [
              "\n",
              "  <div id=\"df-95e6faee-b9ad-4f17-9cc2-87c05dac5fe5\" class=\"colab-df-container\">\n",
              "    <div>\n",
              "<style scoped>\n",
              "    .dataframe tbody tr th:only-of-type {\n",
              "        vertical-align: middle;\n",
              "    }\n",
              "\n",
              "    .dataframe tbody tr th {\n",
              "        vertical-align: top;\n",
              "    }\n",
              "\n",
              "    .dataframe thead th {\n",
              "        text-align: right;\n",
              "    }\n",
              "</style>\n",
              "<table border=\"1\" class=\"dataframe\">\n",
              "  <thead>\n",
              "    <tr style=\"text-align: right;\">\n",
              "      <th></th>\n",
              "      <th>Review_Text</th>\n",
              "    </tr>\n",
              "  </thead>\n",
              "  <tbody>\n",
              "    <tr>\n",
              "      <th>0</th>\n",
              "      <td>bro njn pro edukkan noknond suggestions</td>\n",
              "    </tr>\n",
              "    <tr>\n",
              "      <th>1</th>\n",
              "      <td>tech inte ambassador sign of the horns winking...</td>\n",
              "    </tr>\n",
              "    <tr>\n",
              "      <th>2</th>\n",
              "      <td>ivan aradey flushed face</td>\n",
              "    </tr>\n",
              "    <tr>\n",
              "      <th>3</th>\n",
              "      <td>bro pro gb green available anno</td>\n",
              "    </tr>\n",
              "    <tr>\n",
              "      <th>4</th>\n",
              "      <td>samsung company ethra tharunundh</td>\n",
              "    </tr>\n",
              "    <tr>\n",
              "      <th>...</th>\n",
              "      <td>...</td>\n",
              "    </tr>\n",
              "    <tr>\n",
              "      <th>4153</th>\n",
              "      <td>എന്നാൽ നിനക്ക് rs രൂപ സമ്മാനം relieved face</td>\n",
              "    </tr>\n",
              "    <tr>\n",
              "      <th>4154</th>\n",
              "      <td>സുഹുർത്തെ tesla pi ഫോൺ ഇറങ്ങിയതോടെ apple i pho...</td>\n",
              "    </tr>\n",
              "    <tr>\n",
              "      <th>4155</th>\n",
              "      <td>real me pro vs redmi note pro വീഡിയോ ചെയ്യണേ ബ...</td>\n",
              "    </tr>\n",
              "    <tr>\n",
              "      <th>4156</th>\n",
              "      <td>ഇതിന്റെ google dailer and messaging app miui ട...</td>\n",
              "    </tr>\n",
              "    <tr>\n",
              "      <th>4157</th>\n",
              "      <td>എവിടെ backgroundil golden playbutton എവിടെ eye...</td>\n",
              "    </tr>\n",
              "  </tbody>\n",
              "</table>\n",
              "<p>4158 rows × 1 columns</p>\n",
              "</div>\n",
              "    <div class=\"colab-df-buttons\">\n",
              "\n",
              "  <div class=\"colab-df-container\">\n",
              "    <button class=\"colab-df-convert\" onclick=\"convertToInteractive('df-95e6faee-b9ad-4f17-9cc2-87c05dac5fe5')\"\n",
              "            title=\"Convert this dataframe to an interactive table.\"\n",
              "            style=\"display:none;\">\n",
              "\n",
              "  <svg xmlns=\"http://www.w3.org/2000/svg\" height=\"24px\" viewBox=\"0 -960 960 960\">\n",
              "    <path d=\"M120-120v-720h720v720H120Zm60-500h600v-160H180v160Zm220 220h160v-160H400v160Zm0 220h160v-160H400v160ZM180-400h160v-160H180v160Zm440 0h160v-160H620v160ZM180-180h160v-160H180v160Zm440 0h160v-160H620v160Z\"/>\n",
              "  </svg>\n",
              "    </button>\n",
              "\n",
              "  <style>\n",
              "    .colab-df-container {\n",
              "      display:flex;\n",
              "      gap: 12px;\n",
              "    }\n",
              "\n",
              "    .colab-df-convert {\n",
              "      background-color: #E8F0FE;\n",
              "      border: none;\n",
              "      border-radius: 50%;\n",
              "      cursor: pointer;\n",
              "      display: none;\n",
              "      fill: #1967D2;\n",
              "      height: 32px;\n",
              "      padding: 0 0 0 0;\n",
              "      width: 32px;\n",
              "    }\n",
              "\n",
              "    .colab-df-convert:hover {\n",
              "      background-color: #E2EBFA;\n",
              "      box-shadow: 0px 1px 2px rgba(60, 64, 67, 0.3), 0px 1px 3px 1px rgba(60, 64, 67, 0.15);\n",
              "      fill: #174EA6;\n",
              "    }\n",
              "\n",
              "    .colab-df-buttons div {\n",
              "      margin-bottom: 4px;\n",
              "    }\n",
              "\n",
              "    [theme=dark] .colab-df-convert {\n",
              "      background-color: #3B4455;\n",
              "      fill: #D2E3FC;\n",
              "    }\n",
              "\n",
              "    [theme=dark] .colab-df-convert:hover {\n",
              "      background-color: #434B5C;\n",
              "      box-shadow: 0px 1px 3px 1px rgba(0, 0, 0, 0.15);\n",
              "      filter: drop-shadow(0px 1px 2px rgba(0, 0, 0, 0.3));\n",
              "      fill: #FFFFFF;\n",
              "    }\n",
              "  </style>\n",
              "\n",
              "    <script>\n",
              "      const buttonEl =\n",
              "        document.querySelector('#df-95e6faee-b9ad-4f17-9cc2-87c05dac5fe5 button.colab-df-convert');\n",
              "      buttonEl.style.display =\n",
              "        google.colab.kernel.accessAllowed ? 'block' : 'none';\n",
              "\n",
              "      async function convertToInteractive(key) {\n",
              "        const element = document.querySelector('#df-95e6faee-b9ad-4f17-9cc2-87c05dac5fe5');\n",
              "        const dataTable =\n",
              "          await google.colab.kernel.invokeFunction('convertToInteractive',\n",
              "                                                    [key], {});\n",
              "        if (!dataTable) return;\n",
              "\n",
              "        const docLinkHtml = 'Like what you see? Visit the ' +\n",
              "          '<a target=\"_blank\" href=https://colab.research.google.com/notebooks/data_table.ipynb>data table notebook</a>'\n",
              "          + ' to learn more about interactive tables.';\n",
              "        element.innerHTML = '';\n",
              "        dataTable['output_type'] = 'display_data';\n",
              "        await google.colab.output.renderOutput(dataTable, element);\n",
              "        const docLink = document.createElement('div');\n",
              "        docLink.innerHTML = docLinkHtml;\n",
              "        element.appendChild(docLink);\n",
              "      }\n",
              "    </script>\n",
              "  </div>\n",
              "\n",
              "\n",
              "<div id=\"df-b648e0d3-3673-425d-92d2-4e06ff95f2ac\">\n",
              "  <button class=\"colab-df-quickchart\" onclick=\"quickchart('df-b648e0d3-3673-425d-92d2-4e06ff95f2ac')\"\n",
              "            title=\"Suggest charts\"\n",
              "            style=\"display:none;\">\n",
              "\n",
              "<svg xmlns=\"http://www.w3.org/2000/svg\" height=\"24px\"viewBox=\"0 0 24 24\"\n",
              "     width=\"24px\">\n",
              "    <g>\n",
              "        <path d=\"M19 3H5c-1.1 0-2 .9-2 2v14c0 1.1.9 2 2 2h14c1.1 0 2-.9 2-2V5c0-1.1-.9-2-2-2zM9 17H7v-7h2v7zm4 0h-2V7h2v10zm4 0h-2v-4h2v4z\"/>\n",
              "    </g>\n",
              "</svg>\n",
              "  </button>\n",
              "\n",
              "<style>\n",
              "  .colab-df-quickchart {\n",
              "      --bg-color: #E8F0FE;\n",
              "      --fill-color: #1967D2;\n",
              "      --hover-bg-color: #E2EBFA;\n",
              "      --hover-fill-color: #174EA6;\n",
              "      --disabled-fill-color: #AAA;\n",
              "      --disabled-bg-color: #DDD;\n",
              "  }\n",
              "\n",
              "  [theme=dark] .colab-df-quickchart {\n",
              "      --bg-color: #3B4455;\n",
              "      --fill-color: #D2E3FC;\n",
              "      --hover-bg-color: #434B5C;\n",
              "      --hover-fill-color: #FFFFFF;\n",
              "      --disabled-bg-color: #3B4455;\n",
              "      --disabled-fill-color: #666;\n",
              "  }\n",
              "\n",
              "  .colab-df-quickchart {\n",
              "    background-color: var(--bg-color);\n",
              "    border: none;\n",
              "    border-radius: 50%;\n",
              "    cursor: pointer;\n",
              "    display: none;\n",
              "    fill: var(--fill-color);\n",
              "    height: 32px;\n",
              "    padding: 0;\n",
              "    width: 32px;\n",
              "  }\n",
              "\n",
              "  .colab-df-quickchart:hover {\n",
              "    background-color: var(--hover-bg-color);\n",
              "    box-shadow: 0 1px 2px rgba(60, 64, 67, 0.3), 0 1px 3px 1px rgba(60, 64, 67, 0.15);\n",
              "    fill: var(--button-hover-fill-color);\n",
              "  }\n",
              "\n",
              "  .colab-df-quickchart-complete:disabled,\n",
              "  .colab-df-quickchart-complete:disabled:hover {\n",
              "    background-color: var(--disabled-bg-color);\n",
              "    fill: var(--disabled-fill-color);\n",
              "    box-shadow: none;\n",
              "  }\n",
              "\n",
              "  .colab-df-spinner {\n",
              "    border: 2px solid var(--fill-color);\n",
              "    border-color: transparent;\n",
              "    border-bottom-color: var(--fill-color);\n",
              "    animation:\n",
              "      spin 1s steps(1) infinite;\n",
              "  }\n",
              "\n",
              "  @keyframes spin {\n",
              "    0% {\n",
              "      border-color: transparent;\n",
              "      border-bottom-color: var(--fill-color);\n",
              "      border-left-color: var(--fill-color);\n",
              "    }\n",
              "    20% {\n",
              "      border-color: transparent;\n",
              "      border-left-color: var(--fill-color);\n",
              "      border-top-color: var(--fill-color);\n",
              "    }\n",
              "    30% {\n",
              "      border-color: transparent;\n",
              "      border-left-color: var(--fill-color);\n",
              "      border-top-color: var(--fill-color);\n",
              "      border-right-color: var(--fill-color);\n",
              "    }\n",
              "    40% {\n",
              "      border-color: transparent;\n",
              "      border-right-color: var(--fill-color);\n",
              "      border-top-color: var(--fill-color);\n",
              "    }\n",
              "    60% {\n",
              "      border-color: transparent;\n",
              "      border-right-color: var(--fill-color);\n",
              "    }\n",
              "    80% {\n",
              "      border-color: transparent;\n",
              "      border-right-color: var(--fill-color);\n",
              "      border-bottom-color: var(--fill-color);\n",
              "    }\n",
              "    90% {\n",
              "      border-color: transparent;\n",
              "      border-bottom-color: var(--fill-color);\n",
              "    }\n",
              "  }\n",
              "</style>\n",
              "\n",
              "  <script>\n",
              "    async function quickchart(key) {\n",
              "      const quickchartButtonEl =\n",
              "        document.querySelector('#' + key + ' button');\n",
              "      quickchartButtonEl.disabled = true;  // To prevent multiple clicks.\n",
              "      quickchartButtonEl.classList.add('colab-df-spinner');\n",
              "      try {\n",
              "        const charts = await google.colab.kernel.invokeFunction(\n",
              "            'suggestCharts', [key], {});\n",
              "      } catch (error) {\n",
              "        console.error('Error during call to suggestCharts:', error);\n",
              "      }\n",
              "      quickchartButtonEl.classList.remove('colab-df-spinner');\n",
              "      quickchartButtonEl.classList.add('colab-df-quickchart-complete');\n",
              "    }\n",
              "    (() => {\n",
              "      let quickchartButtonEl =\n",
              "        document.querySelector('#df-b648e0d3-3673-425d-92d2-4e06ff95f2ac button');\n",
              "      quickchartButtonEl.style.display =\n",
              "        google.colab.kernel.accessAllowed ? 'block' : 'none';\n",
              "    })();\n",
              "  </script>\n",
              "</div>\n",
              "    </div>\n",
              "  </div>\n"
            ]
          },
          "metadata": {},
          "execution_count": 14
        }
      ],
      "source": [
        "print(\"Cleaned Text:\\n\")\n",
        "df_cleaned = pd.DataFrame(cleaned_text)\n",
        "df_cleaned"
      ]
    },
    {
      "cell_type": "code",
      "execution_count": null,
      "metadata": {
        "id": "JrAt0f66E6f7"
      },
      "outputs": [],
      "source": [
        "import tensorflow as tf\n",
        "\n",
        "# Set random seed for reproducibility\n",
        "seed_value = 5\n",
        "np.random.seed(seed_value)\n",
        "tf.random.set_seed(seed_value)"
      ]
    },
    {
      "cell_type": "code",
      "execution_count": null,
      "metadata": {
        "id": "3dKIOFcsE6f7"
      },
      "outputs": [],
      "source": [
        "from keras.src.utils.np_utils import to_categorical\n",
        "### SPLIT INTO TRAIN/TEST ###\n",
        "\n",
        "y = to_categorical(df.Sentiment_Class.factorize()[0])\n",
        "\n",
        "X_train, X_test, y_train, y_test = train_test_split(df_cleaned.Review_Text.tolist(), y, random_state=seed_value, test_size=0.15)"
      ]
    },
    {
      "cell_type": "code",
      "execution_count": null,
      "metadata": {
        "colab": {
          "base_uri": "https://localhost:8080/"
        },
        "outputId": "dca4892e-91f3-4107-f699-71ed7969acfb",
        "id": "UFcrA7YIE6f7"
      },
      "outputs": [
        {
          "output_type": "execute_result",
          "data": {
            "text/plain": [
              "{0: 'Not_relevant',\n",
              " 1: 'Positive',\n",
              " 2: 'Negative',\n",
              " 3: 'Neutral',\n",
              " 4: 'Mixed Feelings'}"
            ]
          },
          "metadata": {},
          "execution_count": 17
        }
      ],
      "source": [
        "### MAP LABEL ###\n",
        "\n",
        "diz_label = {}\n",
        "for i,label in enumerate(df.Sentiment_Class.factorize()[1]):\n",
        "    diz_label[i] = label\n",
        "\n",
        "diz_label"
      ]
    },
    {
      "cell_type": "code",
      "source": [
        "### TRANSFORM ORIGINAL TEXT INTO SEQUENCES AND COMPUTE PADDING ###\n",
        "\n",
        "max_len = 600\n",
        "\n",
        "tokenizer = Tokenizer(lower=True, split=' ')\n",
        "word_index = tokenizer.word_index\n",
        "tokenizer.fit_on_texts(X_train)\n",
        "sequences = tokenizer.texts_to_sequences(text)\n",
        "\n",
        "# Padding sequences\n",
        "padded_sequences = pad_sequences(sequences, maxlen=max_len)\n",
        "\n",
        "sequence_train = tokenizer.texts_to_sequences(X_train)\n",
        "sequence_train = pad_sequences(sequence_train, maxlen=max_len)\n",
        "\n",
        "sequence_test = tokenizer.texts_to_sequences(X_test)\n",
        "sequence_test = pad_sequences(sequence_test, maxlen=max_len)\n",
        "\n",
        "sequence_train = np.asarray(sequence_train)\n",
        "sequence_test = np.asarray(sequence_test)\n",
        "\n",
        "print(sequence_train.shape, sequence_test.shape)\n"
      ],
      "metadata": {
        "colab": {
          "base_uri": "https://localhost:8080/"
        },
        "id": "YP339fHqFPDx",
        "outputId": "2d3f7bbe-b73d-409a-94a2-3baaefe8e97f"
      },
      "execution_count": null,
      "outputs": [
        {
          "output_type": "stream",
          "name": "stdout",
          "text": [
            "(3534, 600) (624, 600)\n"
          ]
        }
      ]
    },
    {
      "cell_type": "code",
      "source": [
        "### TRAIN WORD2VEC###\n",
        "\n",
        "w2v=Word2Vec(vector_size=100, window=5, min_count=5, seed=33)\n",
        "w2v.build_vocab([s.split( ) for s in X_train])\n",
        "w2v.train([s.split( ) for s in X_train], total_examples=w2v.corpus_count, epochs=10)"
      ],
      "metadata": {
        "colab": {
          "base_uri": "https://localhost:8080/"
        },
        "id": "nbTlbTuAe7-x",
        "outputId": "3047d620-7e35-4c52-fa3d-4a0663fdd15e"
      },
      "execution_count": null,
      "outputs": [
        {
          "output_type": "execute_result",
          "data": {
            "text/plain": [
              "(322607, 542420)"
            ]
          },
          "metadata": {},
          "execution_count": 19
        }
      ]
    },
    {
      "cell_type": "code",
      "execution_count": null,
      "metadata": {
        "colab": {
          "base_uri": "https://localhost:8080/"
        },
        "outputId": "9a3ec594-42a8-4fe9-b776-4cd27de7ca06",
        "id": "ci0Ql2C-E6f7"
      },
      "outputs": [
        {
          "output_type": "execute_result",
          "data": {
            "text/plain": [
              "(339965, 542420)"
            ]
          },
          "metadata": {},
          "execution_count": 20
        }
      ],
      "source": [
        "## TRAIN FASTTEXT ###\n",
        "ft = FastText(vector_size=100, window=5, min_count=4, seed=33)\n",
        "ft.build_vocab([s.split( ) for s in X_train])\n",
        "ft.train([s.split( ) for s in X_train], total_examples=ft.corpus_count, epochs=10)"
      ]
    },
    {
      "cell_type": "code",
      "source": [
        "### GET TRAINED WEIGHTS FOR EACH WORD FROM WORD2VEC ###\n",
        "\n",
        "embedding_matrix_w2v = np.random.random((len(tokenizer.word_index) + 1, 100))\n",
        "\n",
        "pas = 0\n",
        "for word,i in tokenizer.word_index.items():\n",
        "\n",
        "    try:\n",
        "        embedding_matrix_w2v[i] = w2v.wv[word]\n",
        "    except:\n",
        "        pas+=1\n",
        "\n",
        "print('not in vocabulary', pas)"
      ],
      "metadata": {
        "colab": {
          "base_uri": "https://localhost:8080/"
        },
        "id": "pFlw4YZqWsJu",
        "outputId": "fe988511-266a-4219-e883-3a5b71a3c481"
      },
      "execution_count": null,
      "outputs": [
        {
          "output_type": "stream",
          "name": "stdout",
          "text": [
            "not in vocabulary 11421\n"
          ]
        }
      ]
    },
    {
      "cell_type": "code",
      "source": [
        "### GET TRAINED WEIGHTS FOR EACH WORD FROM FASTTEXT ###\n",
        "\n",
        "embedding_matrix_ft = np.random.random((len(tokenizer.word_index) + 1, 100))\n",
        "\n",
        "pas = 0\n",
        "for word,i in tokenizer.word_index.items():\n",
        "\n",
        "    try:\n",
        "        embedding_matrix_ft[i] = ft.wv[word]\n",
        "    except:\n",
        "        pas+=1\n",
        "\n",
        "print('not in vocabulary', pas)\n",
        "embedding_matrix_ft.shape"
      ],
      "metadata": {
        "colab": {
          "base_uri": "https://localhost:8080/"
        },
        "id": "24vd95B1FSXj",
        "outputId": "952b9cf5-a85c-430d-a3dd-db79a509b118"
      },
      "execution_count": null,
      "outputs": [
        {
          "output_type": "stream",
          "name": "stdout",
          "text": [
            "not in vocabulary 0\n"
          ]
        },
        {
          "output_type": "execute_result",
          "data": {
            "text/plain": [
              "(13053, 100)"
            ]
          },
          "metadata": {},
          "execution_count": 22
        }
      ]
    },
    {
      "cell_type": "code",
      "source": [
        "### DEFINE INPUT LAYER FOR EMBEDDINGS READING AND CONCATENATION ###\n",
        "\n",
        "### DEFINE INPUT LAYER FOR EMBEDDINGS READING AND CONCATENATION ###\n",
        "\n",
        "def Concat_Emb(list_emb, maxlen):\n",
        "\n",
        "    inputs = []\n",
        "    output = []\n",
        "    for embedding in list_emb:\n",
        "\n",
        "        inp = Input(shape=(maxlen,))\n",
        "        emb = Embedding(len(tokenizer.word_index) + 1, 100, weights=[embedding], trainable=False)(inp)\n",
        "        emb = Reshape((-1,100,1))(emb)\n",
        "        inputs.append(inp)\n",
        "        output.append(emb)\n",
        "\n",
        "    concat = Concatenate(axis=-1)(output)\n",
        "\n",
        "    return Model(inputs, concat)"
      ],
      "metadata": {
        "id": "mQ_X-Y8PVT-f"
      },
      "execution_count": null,
      "outputs": []
    },
    {
      "cell_type": "code",
      "source": [
        "### TRY Concat_Emb ###\n",
        "read_emb = Concat_Emb([embedding_matrix_w2v, embedding_matrix_ft], maxlen=max_len)\n",
        "read_emb.summary()"
      ],
      "metadata": {
        "colab": {
          "base_uri": "https://localhost:8080/"
        },
        "id": "rcMFNnLtVke-",
        "outputId": "1671c033-9cc3-4c8d-e358-3fed95261de2"
      },
      "execution_count": null,
      "outputs": [
        {
          "output_type": "stream",
          "name": "stdout",
          "text": [
            "Model: \"model\"\n",
            "__________________________________________________________________________________________________\n",
            " Layer (type)                Output Shape                 Param #   Connected to                  \n",
            "==================================================================================================\n",
            " input_1 (InputLayer)        [(None, 600)]                0         []                            \n",
            "                                                                                                  \n",
            " input_2 (InputLayer)        [(None, 600)]                0         []                            \n",
            "                                                                                                  \n",
            " embedding (Embedding)       (None, 600, 100)             1305300   ['input_1[0][0]']             \n",
            "                                                                                                  \n",
            " embedding_1 (Embedding)     (None, 600, 100)             1305300   ['input_2[0][0]']             \n",
            "                                                                                                  \n",
            " reshape (Reshape)           (None, 600, 100, 1)          0         ['embedding[0][0]']           \n",
            "                                                                                                  \n",
            " reshape_1 (Reshape)         (None, 600, 100, 1)          0         ['embedding_1[0][0]']         \n",
            "                                                                                                  \n",
            " concatenate (Concatenate)   (None, 600, 100, 2)          0         ['reshape[0][0]',             \n",
            "                                                                     'reshape_1[0][0]']           \n",
            "                                                                                                  \n",
            "==================================================================================================\n",
            "Total params: 2610600 (9.96 MB)\n",
            "Trainable params: 0 (0.00 Byte)\n",
            "Non-trainable params: 2610600 (9.96 MB)\n",
            "__________________________________________________________________________________________________\n"
          ]
        }
      ]
    },
    {
      "cell_type": "code",
      "source": [
        "\n",
        "def inputlayer(maxlen):\n",
        "\n",
        "    inp = Input(shape=(maxlen, 100, 2))\n",
        "    x = Reshape((maxlen, -1))(inp)\n",
        "    x = LSTM(2, return_sequences=True)(x)\n",
        "    x = Activation('sigmoid')(x)\n",
        "    x = Reshape((maxlen, 1, 2))(x)\n",
        "    x = multiply([inp, x])\n",
        "    out = Lambda(lambda t: K.sum(t, axis=-1))(x)\n",
        "\n",
        "    return Model(inp, out)"
      ],
      "metadata": {
        "id": "fbSs2LCGVGKX"
      },
      "execution_count": null,
      "outputs": []
    },
    {
      "cell_type": "code",
      "source": [
        "# Model building\n",
        "### DEFINE NETWORK WITH DME ###\n",
        "\n",
        "concat_inp = Concat_Emb([embedding_matrix_w2v, embedding_matrix_ft], maxlen=max_len)\n",
        "modl =inputlayer(max_len)\n",
        "x = modl(concat_inp.output)\n",
        "x = LSTM(128, dropout=0.2, return_sequences=True)(x)\n",
        "x = LSTM(32, dropout=0.2)(x)\n",
        "out = Dense(y.shape[1], activation='softmax')(x)\n",
        "model = Model(concat_inp.input, out)\n",
        "model.compile(optimizer='adam', loss='categorical_crossentropy', metrics=['accuracy'])"
      ],
      "metadata": {
        "id": "8DRadazrFZRM"
      },
      "execution_count": null,
      "outputs": []
    },
    {
      "cell_type": "code",
      "source": [
        "model.summary()"
      ],
      "metadata": {
        "colab": {
          "base_uri": "https://localhost:8080/"
        },
        "id": "apKimsVvHgpN",
        "outputId": "85d8920a-e4bb-458d-9a80-2486c46bc65d"
      },
      "execution_count": null,
      "outputs": [
        {
          "output_type": "stream",
          "name": "stdout",
          "text": [
            "Model: \"model_3\"\n",
            "__________________________________________________________________________________________________\n",
            " Layer (type)                Output Shape                 Param #   Connected to                  \n",
            "==================================================================================================\n",
            " input_3 (InputLayer)        [(None, 600)]                0         []                            \n",
            "                                                                                                  \n",
            " input_4 (InputLayer)        [(None, 600)]                0         []                            \n",
            "                                                                                                  \n",
            " embedding_2 (Embedding)     (None, 600, 100)             1305300   ['input_3[0][0]']             \n",
            "                                                                                                  \n",
            " embedding_3 (Embedding)     (None, 600, 100)             1305300   ['input_4[0][0]']             \n",
            "                                                                                                  \n",
            " reshape_2 (Reshape)         (None, 600, 100, 1)          0         ['embedding_2[0][0]']         \n",
            "                                                                                                  \n",
            " reshape_3 (Reshape)         (None, 600, 100, 1)          0         ['embedding_3[0][0]']         \n",
            "                                                                                                  \n",
            " concatenate_1 (Concatenate  (None, 600, 100, 2)          0         ['reshape_2[0][0]',           \n",
            " )                                                                   'reshape_3[0][0]']           \n",
            "                                                                                                  \n",
            " model_2 (Functional)        (None, 600, 100)             1624      ['concatenate_1[0][0]']       \n",
            "                                                                                                  \n",
            " lstm_1 (LSTM)               (None, 600, 128)             117248    ['model_2[0][0]']             \n",
            "                                                                                                  \n",
            " lstm_2 (LSTM)               (None, 32)                   20608     ['lstm_1[0][0]']              \n",
            "                                                                                                  \n",
            " dense (Dense)               (None, 5)                    165       ['lstm_2[0][0]']              \n",
            "                                                                                                  \n",
            "==================================================================================================\n",
            "Total params: 2750245 (10.49 MB)\n",
            "Trainable params: 139645 (545.49 KB)\n",
            "Non-trainable params: 2610600 (9.96 MB)\n",
            "__________________________________________________________________________________________________\n"
          ]
        }
      ]
    },
    {
      "cell_type": "code",
      "source": [
        "# Model training\n",
        "history=model.fit([sequence_train]*2, y_train, batch_size=128, epochs=20, verbose=2, validation_split=0.1)\n"
      ],
      "metadata": {
        "colab": {
          "base_uri": "https://localhost:8080/"
        },
        "id": "lnz4cxDeUrfP",
        "outputId": "bba5cae1-c777-4c45-fc18-0c833b0026cb"
      },
      "execution_count": null,
      "outputs": [
        {
          "output_type": "stream",
          "name": "stdout",
          "text": [
            "Epoch 1/20\n",
            "25/25 - 143s - loss: 1.5158 - accuracy: 0.3280 - val_loss: 1.4386 - val_accuracy: 0.3814 - 143s/epoch - 6s/step\n",
            "Epoch 2/20\n",
            "25/25 - 104s - loss: 1.4625 - accuracy: 0.3686 - val_loss: 1.4422 - val_accuracy: 0.3870 - 104s/epoch - 4s/step\n",
            "Epoch 3/20\n",
            "25/25 - 116s - loss: 1.4353 - accuracy: 0.3906 - val_loss: 1.4281 - val_accuracy: 0.3729 - 116s/epoch - 5s/step\n",
            "Epoch 4/20\n",
            "25/25 - 107s - loss: 1.4205 - accuracy: 0.3959 - val_loss: 1.4082 - val_accuracy: 0.3927 - 107s/epoch - 4s/step\n",
            "Epoch 5/20\n",
            "25/25 - 109s - loss: 1.4018 - accuracy: 0.4097 - val_loss: 1.4129 - val_accuracy: 0.3898 - 109s/epoch - 4s/step\n",
            "Epoch 6/20\n",
            "25/25 - 111s - loss: 1.4053 - accuracy: 0.4019 - val_loss: 1.3793 - val_accuracy: 0.4011 - 111s/epoch - 4s/step\n",
            "Epoch 7/20\n",
            "25/25 - 120s - loss: 1.3837 - accuracy: 0.4308 - val_loss: 1.3934 - val_accuracy: 0.4011 - 120s/epoch - 5s/step\n",
            "Epoch 8/20\n",
            "25/25 - 104s - loss: 1.3722 - accuracy: 0.4211 - val_loss: 1.3942 - val_accuracy: 0.4096 - 104s/epoch - 4s/step\n",
            "Epoch 9/20\n",
            "25/25 - 101s - loss: 1.3698 - accuracy: 0.4308 - val_loss: 1.3701 - val_accuracy: 0.4209 - 101s/epoch - 4s/step\n",
            "Epoch 10/20\n",
            "25/25 - 108s - loss: 1.3596 - accuracy: 0.4399 - val_loss: 1.3761 - val_accuracy: 0.4068 - 108s/epoch - 4s/step\n",
            "Epoch 11/20\n",
            "25/25 - 104s - loss: 1.3471 - accuracy: 0.4465 - val_loss: 1.3927 - val_accuracy: 0.3955 - 104s/epoch - 4s/step\n",
            "Epoch 12/20\n",
            "25/25 - 104s - loss: 1.3473 - accuracy: 0.4434 - val_loss: 1.3662 - val_accuracy: 0.4322 - 104s/epoch - 4s/step\n",
            "Epoch 13/20\n",
            "25/25 - 101s - loss: 1.3374 - accuracy: 0.4531 - val_loss: 1.3625 - val_accuracy: 0.4153 - 101s/epoch - 4s/step\n",
            "Epoch 14/20\n",
            "25/25 - 106s - loss: 1.3215 - accuracy: 0.4525 - val_loss: 1.3544 - val_accuracy: 0.4266 - 106s/epoch - 4s/step\n",
            "Epoch 15/20\n",
            "25/25 - 104s - loss: 1.3103 - accuracy: 0.4638 - val_loss: 1.3534 - val_accuracy: 0.4181 - 104s/epoch - 4s/step\n",
            "Epoch 16/20\n",
            "25/25 - 105s - loss: 1.3022 - accuracy: 0.4616 - val_loss: 1.3682 - val_accuracy: 0.4096 - 105s/epoch - 4s/step\n",
            "Epoch 17/20\n",
            "25/25 - 123s - loss: 1.3032 - accuracy: 0.4642 - val_loss: 1.3963 - val_accuracy: 0.3955 - 123s/epoch - 5s/step\n",
            "Epoch 18/20\n",
            "25/25 - 112s - loss: 1.2909 - accuracy: 0.4708 - val_loss: 1.3674 - val_accuracy: 0.3927 - 112s/epoch - 4s/step\n",
            "Epoch 19/20\n",
            "25/25 - 106s - loss: 1.2771 - accuracy: 0.4726 - val_loss: 1.3739 - val_accuracy: 0.3729 - 106s/epoch - 4s/step\n",
            "Epoch 20/20\n",
            "25/25 - 102s - loss: 1.2725 - accuracy: 0.4742 - val_loss: 1.3764 - val_accuracy: 0.4040 - 102s/epoch - 4s/step\n"
          ]
        }
      ]
    },
    {
      "cell_type": "code",
      "execution_count": null,
      "metadata": {
        "colab": {
          "base_uri": "https://localhost:8080/"
        },
        "id": "rXK8rdGB6UW5",
        "outputId": "75ae8f83-22aa-483b-b110-f5bdd73bf0a3"
      },
      "outputs": [
        {
          "output_type": "stream",
          "name": "stdout",
          "text": [
            "20/20 [==============================] - 12s 521ms/step\n",
            "                precision    recall  f1-score   support\n",
            "\n",
            "Mixed Feelings       0.30      0.10      0.15        72\n",
            "      Negative       0.48      0.11      0.18       118\n",
            "       Neutral       0.41      0.51      0.45       147\n",
            "  Not_relevant       0.42      0.57      0.48       156\n",
            "      Positive       0.38      0.52      0.44       131\n",
            "\n",
            "      accuracy                           0.40       624\n",
            "     macro avg       0.40      0.36      0.34       624\n",
            "  weighted avg       0.41      0.40      0.37       624\n",
            "\n"
          ]
        }
      ],
      "source": [
        "print(classification_report([diz_label[i] for i in np.argmax(y_test, axis=1)],\n",
        "                            [diz_label[i] for i in np.argmax(model.predict([sequence_test]*2), axis=1)]))"
      ]
    },
    {
      "cell_type": "code",
      "source": [
        "def plot_graphs(history, string):\n",
        "  plt.plot(history.history[string])\n",
        "  plt.plot(history.history['val_'+string])\n",
        "  plt.xlabel(\"Epochs\")\n",
        "  plt.ylabel(string)\n",
        "  plt.legend([string, 'val_'+string])\n",
        "  plt.show()"
      ],
      "metadata": {
        "id": "F6WRoXjOhGtg"
      },
      "execution_count": null,
      "outputs": []
    },
    {
      "cell_type": "code",
      "execution_count": null,
      "metadata": {
        "colab": {
          "base_uri": "https://localhost:8080/",
          "height": 883
        },
        "id": "M_fazh9vWcXL",
        "outputId": "868a714a-4ec4-4e81-fc66-11822df123df"
      },
      "outputs": [
        {
          "output_type": "display_data",
          "data": {
            "text/plain": [
              "<Figure size 640x480 with 1 Axes>"
            ],
            "image/png": "[encoded data removed]"
          },
          "metadata": {}
        },
        {
          "output_type": "display_data",
          "data": {
            "text/plain": [
              "<Figure size 640x480 with 1 Axes>"
            ],
            "image/png": "[encoded data removed]"
          },
          "metadata": {}
        }
      ],
      "source": [
        "plot_graphs(history, \"accuracy\")\n",
        "plot_graphs(history, \"loss\")"
      ]
    }
  ]
}